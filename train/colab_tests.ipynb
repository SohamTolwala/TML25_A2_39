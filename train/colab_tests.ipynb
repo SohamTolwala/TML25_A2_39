{
  "nbformat": 4,
  "nbformat_minor": 0,
  "metadata": {
    "colab": {
      "provenance": [],
      "gpuType": "T4"
    },
    "kernelspec": {
      "name": "python3",
      "display_name": "Python 3"
    },
    "language_info": {
      "name": "python"
    },
    "accelerator": "GPU"
  },
  "cells": [
    {
      "cell_type": "code",
      "source": [
        "! pip install -q onnxruntime"
      ],
      "metadata": {
        "id": "0B1PEd9x0vJ_"
      },
      "execution_count": 1,
      "outputs": []
    },
    {
      "cell_type": "code",
      "execution_count": 2,
      "metadata": {
        "colab": {
          "base_uri": "https://localhost:8080/"
        },
        "id": "jLFTL206v_7W",
        "outputId": "f35cdfc0-2186-43f2-88ce-6f195acb0bdc"
      },
      "outputs": [
        {
          "output_type": "stream",
          "name": "stdout",
          "text": [
            "Loading from:\n",
            " - Embeddings: /content/public_embeddings_seed61437433_port9732.npz\n",
            " - Images: /content/ModelStealingPub.pt\n"
          ]
        }
      ],
      "source": [
        "import torch\n",
        "import numpy as np\n",
        "import matplotlib.pyplot as plt\n",
        "from torchvision import transforms\n",
        "from PIL import Image\n",
        "import sys\n",
        "import os\n",
        "\n",
        "# Set paths\n",
        "EMB_PATH = \"/content/public_embeddings_seed61437433_port9732.npz\"\n",
        "IMG_PATH = \"/content/ModelStealingPub.pt\"\n",
        "\n",
        "print(\"Loading from:\")\n",
        "print(\" - Embeddings:\", EMB_PATH)\n",
        "print(\" - Images:\", IMG_PATH)\n"
      ]
    },
    {
      "cell_type": "markdown",
      "source": [
        "## training base encoder on victim embeddings i.e. stolen encoder"
      ],
      "metadata": {
        "id": "Ov3b5-QtjZTu"
      }
    },
    {
      "cell_type": "code",
      "source": [
        "# --- Begin: Dataset class definitions needed for torch.load ---\n",
        "import torch\n",
        "from torch.utils.data import Dataset\n",
        "from typing import Tuple\n",
        "\n",
        "class TaskDataset(Dataset):\n",
        "    def __init__(self, transform=None):\n",
        "        self.ids = []\n",
        "        self.imgs = []\n",
        "        self.labels = []\n",
        "        self.transform = transform\n",
        "\n",
        "    def __getitem__(self, index) -> Tuple[int, torch.Tensor, int]:\n",
        "        id_ = self.ids[index]\n",
        "        img = self.imgs[index]\n",
        "        if self.transform:\n",
        "            img = self.transform(img)\n",
        "        label = self.labels[index]\n",
        "        return id_, img, label\n",
        "\n",
        "    def __len__(self):\n",
        "        return len(self.ids)\n",
        "# --- End: Dataset class definitions ---\n"
      ],
      "metadata": {
        "id": "xxbv1uvawd6-"
      },
      "execution_count": 3,
      "outputs": []
    },
    {
      "cell_type": "code",
      "source": [
        "# Load the victim .npz\n",
        "data = np.load(EMB_PATH)\n",
        "indices = data[\"indices\"]\n",
        "reps = data[\"reps\"]\n",
        "seed = int(data[\"seed\"])\n",
        "port = int(data[\"port\"])\n",
        "\n",
        "print(\"Loaded embeddings:\", reps.shape)\n",
        "\n",
        "# Load the corresponding public image dataset (.pt)\n",
        "dataset = torch.load(IMG_PATH, weights_only=False)\n",
        "images  = [dataset.imgs[i] for i in indices]\n",
        "\n",
        "# Ensure length matches\n",
        "assert len(images) == reps.shape[0]\n",
        "print(\"Loaded matching images:\", len(images))\n"
      ],
      "metadata": {
        "colab": {
          "base_uri": "https://localhost:8080/"
        },
        "id": "eJpFRHAAwggg",
        "outputId": "da25365f-873e-42ee-b08e-c44008fc4c99"
      },
      "execution_count": null,
      "outputs": [
        {
          "output_type": "stream",
          "name": "stdout",
          "text": [
            "Loaded embeddings: (1000, 1024)\n",
            "Loaded matching images: 1000\n"
          ]
        }
      ]
    },
    {
      "cell_type": "code",
      "source": [
        "# Show first 5 images and their first 20 embedding dims\n",
        "for i in range(5):\n",
        "    img = images[i]\n",
        "    emb = reps[i]\n",
        "\n",
        "    plt.figure(figsize=(4, 1.5))\n",
        "    plt.subplot(1, 2, 1)\n",
        "    plt.imshow(img)\n",
        "    plt.axis('off')\n",
        "\n",
        "    plt.subplot(1, 2, 2)\n",
        "    plt.plot(emb[:20])\n",
        "    plt.title(\"Embedding dims 0–19\")\n",
        "    plt.grid(True)\n",
        "    plt.tight_layout()\n",
        "    plt.show()\n"
      ],
      "metadata": {
        "colab": {
          "base_uri": "https://localhost:8080/",
          "height": 717
        },
        "id": "K9oakPHnwnK2",
        "outputId": "e3c6cb16-6e66-470e-e360-64179adfd5a2"
      },
      "execution_count": null,
      "outputs": [
        {
          "output_type": "display_data",
          "data": {
            "text/plain": [
              "<Figure size 400x150 with 2 Axes>"
            ],
            "image/png": "[encoded data removed]"
          },
          "metadata": {}
        },
        {
          "output_type": "display_data",
          "data": {
            "text/plain": [
              "<Figure size 400x150 with 2 Axes>"
            ],
            "image/png": "[encoded data removed]"
          },
          "metadata": {}
        },
        {
          "output_type": "display_data",
          "data": {
            "text/plain": [
              "<Figure size 400x150 with 2 Axes>"
            ],
            "image/png": "[encoded data removed]"
          },
          "metadata": {}
        },
        {
          "output_type": "display_data",
          "data": {
            "text/plain": [
              "<Figure size 400x150 with 2 Axes>"
            ],
            "image/png": "[encoded data removed]"
          },
          "metadata": {}
        },
        {
          "output_type": "display_data",
          "data": {
            "text/plain": [
              "<Figure size 400x150 with 2 Axes>"
            ],
            "image/png": "[encoded data removed]"
          },
          "metadata": {}
        }
      ]
    },
    {
      "cell_type": "code",
      "source": [
        "# Define Stolen Encoder Architecture\n",
        "\n",
        "import torch\n",
        "import torch.nn as nn\n",
        "from torchvision.models import resnet18\n",
        "\n",
        "class StolenEncoder(nn.Module):\n",
        "    def __init__(self, pretrained_backbone=False):\n",
        "        super().__init__()\n",
        "        # 1) Backbone\n",
        "        self.backbone = resnet18(pretrained=pretrained_backbone)\n",
        "        # Remove the original classification head\n",
        "        self.backbone.fc = nn.Identity()\n",
        "        # 2) Projection head to get 1024-dim outputs\n",
        "        self.proj = nn.Sequential(\n",
        "            nn.Linear(512, 512),\n",
        "            nn.ReLU(),\n",
        "            nn.Linear(512, 1024)\n",
        "        )\n",
        "\n",
        "    def forward(self, x):\n",
        "        # x shape: (B,3,32,32)\n",
        "        feat = self.backbone(x)     # (B,512)\n",
        "        rep  = self.proj(feat)      # (B,1024)\n",
        "        return rep\n",
        "\n",
        "# Quickly test shape\n",
        "model = StolenEncoder(pretrained_backbone=False)\n",
        "x = torch.randn(4, 3, 32, 32)\n",
        "y = model(x)\n",
        "print(\"➡️ StolenEncoder output shape:\", y.shape)\n"
      ],
      "metadata": {
        "colab": {
          "base_uri": "https://localhost:8080/"
        },
        "id": "DlwyXW6Pwp6Y",
        "outputId": "d31fbc2f-1bd9-4ac5-881b-62ab918b20c3"
      },
      "execution_count": null,
      "outputs": [
        {
          "output_type": "stream",
          "name": "stderr",
          "text": [
            "/usr/local/lib/python3.11/dist-packages/torchvision/models/_utils.py:208: UserWarning: The parameter 'pretrained' is deprecated since 0.13 and may be removed in the future, please use 'weights' instead.\n",
            "  warnings.warn(\n",
            "/usr/local/lib/python3.11/dist-packages/torchvision/models/_utils.py:223: UserWarning: Arguments other than a weight enum or `None` for 'weights' are deprecated since 0.13 and may be removed in the future. The current behavior is equivalent to passing `weights=None`.\n",
            "  warnings.warn(msg)\n"
          ]
        },
        {
          "output_type": "stream",
          "name": "stdout",
          "text": [
            "➡️ StolenEncoder output shape: torch.Size([4, 1024])\n"
          ]
        }
      ]
    },
    {
      "cell_type": "code",
      "source": [
        "import torch\n",
        "from torch.utils.data import Dataset, DataLoader\n",
        "from torchvision import transforms\n",
        "\n",
        "# Basic transforms to convert PIL → Tensor + normalize\n",
        "transform = transforms.Compose([\n",
        "    transforms.ToTensor(),\n",
        "    transforms.Normalize(mean=[0.485,0.456,0.406], std=[0.229,0.224,0.225])\n",
        "])\n",
        "\n",
        "class StealingDataset(Dataset):\n",
        "    def __init__(self, images, embeddings, transform=None):\n",
        "        \"\"\"\n",
        "        images: list of PIL.Image\n",
        "        embeddings: numpy array (N,1024)\n",
        "        \"\"\"\n",
        "        self.images     = images\n",
        "        self.embeddings = torch.from_numpy(embeddings).float()\n",
        "        self.transform  = transform\n",
        "\n",
        "    def __len__(self):\n",
        "        return len(self.images)\n",
        "\n",
        "    def __getitem__(self, idx):\n",
        "      img = self.images[idx]\n",
        "      if img.mode != 'RGB':\n",
        "          img = img.convert(\"RGB\")\n",
        "      if self.transform:\n",
        "          img = self.transform(img)\n",
        "      rep = self.embeddings[idx]\n",
        "      return img, rep\n",
        "\n",
        "\n",
        "# Instantiate dataset & dataloader\n",
        "dataset_ssl = StealingDataset(images, reps, transform=transform)\n",
        "loader_ssl  = DataLoader(dataset_ssl, batch_size=64, shuffle=True, num_workers=2)\n",
        "\n",
        "print(\"Dataset size:\", len(dataset_ssl))\n",
        "# print(\"One batch shapes:\", next(iter(loader_ssl))[0].shape, next(iter(loader_ssl))[1].shape)\n"
      ],
      "metadata": {
        "colab": {
          "base_uri": "https://localhost:8080/"
        },
        "id": "nVhm4aAewsI1",
        "outputId": "9362aa87-021f-4bb5-8547-fe08b3676afd"
      },
      "execution_count": null,
      "outputs": [
        {
          "output_type": "stream",
          "name": "stdout",
          "text": [
            "Dataset size: 1000\n"
          ]
        }
      ]
    },
    {
      "cell_type": "code",
      "source": [
        "# Set up training components\n",
        "\n",
        "import torch.nn as nn\n",
        "\n",
        "device = torch.device(\"cuda\" if torch.cuda.is_available() else \"cpu\")\n",
        "print(\"Using device:\", device)\n",
        "\n",
        "model = StolenEncoder(pretrained_backbone=False).to(device)\n",
        "\n",
        "# Loss: MSE between student & victim embeddings\n",
        "criterion = nn.MSELoss()\n",
        "\n",
        "# Optimizer\n",
        "optimizer = torch.optim.Adam(model.parameters(), lr=1e-4, weight_decay=1e-5)\n",
        "\n",
        "# (Optional) learning rate scheduler\n",
        "scheduler = torch.optim.lr_scheduler.StepLR(optimizer, step_size=10, gamma=0.5)\n"
      ],
      "metadata": {
        "colab": {
          "base_uri": "https://localhost:8080/"
        },
        "id": "soljL8OLwty9",
        "outputId": "b6c44fa4-6a8f-4e78-babb-6c23b81a8105"
      },
      "execution_count": null,
      "outputs": [
        {
          "output_type": "stream",
          "name": "stdout",
          "text": [
            "Using device: cuda\n"
          ]
        }
      ]
    },
    {
      "cell_type": "code",
      "source": [
        "# Train for one epoch & log loss\n",
        "\n",
        "model.train()\n",
        "running_loss = 0.0\n",
        "\n",
        "for batch_idx, (imgs, target_reps) in enumerate(loader_ssl, 1):\n",
        "    imgs = imgs.to(device)                  # (B,3,32,32)\n",
        "    target_reps = target_reps.to(device)    # (B,1024)\n",
        "\n",
        "    optimizer.zero_grad()\n",
        "    pred_reps = model(imgs)                 # (B,1024)\n",
        "    loss = criterion(pred_reps, target_reps)\n",
        "    loss.backward()\n",
        "    optimizer.step()\n",
        "\n",
        "    running_loss += loss.item()\n",
        "    if batch_idx % 50 == 0:\n",
        "        print(f\"  [Batch {batch_idx}] Avg Loss: {running_loss / batch_idx:.4f}\")\n",
        "\n",
        "# Step the scheduler\n",
        "scheduler.step()\n",
        "\n",
        "epoch_loss = running_loss / len(loader_ssl)\n",
        "print(f\"→ Epoch Loss: {epoch_loss:.4f}\")\n"
      ],
      "metadata": {
        "colab": {
          "base_uri": "https://localhost:8080/"
        },
        "id": "VkHz2ILawu-m",
        "outputId": "792419a1-ac0a-45c5-978b-e2246bc892aa"
      },
      "execution_count": null,
      "outputs": [
        {
          "output_type": "stream",
          "name": "stdout",
          "text": [
            "→ Epoch Loss: 0.6501\n"
          ]
        }
      ]
    },
    {
      "cell_type": "code",
      "source": [
        "# Cell: Run multiple epochs and plot loss curve\n",
        "\n",
        "num_epochs = 50\n",
        "history = []\n",
        "\n",
        "for epoch in range(1, num_epochs+1):\n",
        "    model.train()\n",
        "    total_loss = 0.0\n",
        "\n",
        "    for imgs, target_reps in loader_ssl:\n",
        "        imgs = imgs.to(device)\n",
        "        target_reps = target_reps.to(device)\n",
        "\n",
        "        optimizer.zero_grad()\n",
        "        loss = criterion(model(imgs), target_reps)\n",
        "        loss.backward()\n",
        "        optimizer.step()\n",
        "\n",
        "        total_loss += loss.item()\n",
        "\n",
        "    scheduler.step()\n",
        "    avg = total_loss / len(loader_ssl)\n",
        "    history.append(avg)\n",
        "    print(f\"[Epoch {epoch}/{num_epochs}] Loss: {avg:.4f}\")\n",
        "\n",
        "# Plot loss curve\n",
        "plt.figure()\n",
        "plt.plot(range(1, num_epochs+1), history, marker='o')\n",
        "plt.title(\"Training Loss over Epochs\")\n",
        "plt.xlabel(\"Epoch\")\n",
        "plt.ylabel(\"MSE Loss\")\n",
        "plt.grid(True)\n",
        "plt.show()\n"
      ],
      "metadata": {
        "colab": {
          "base_uri": "https://localhost:8080/",
          "height": 1000
        },
        "id": "Mip_GhYTwwUB",
        "outputId": "27d2c281-6c9b-4d42-d1ae-7949ca0fde64"
      },
      "execution_count": null,
      "outputs": [
        {
          "output_type": "stream",
          "name": "stdout",
          "text": [
            "[Epoch 1/50] Loss: 0.2345\n",
            "[Epoch 2/50] Loss: 0.0568\n",
            "[Epoch 3/50] Loss: 0.0221\n",
            "[Epoch 4/50] Loss: 0.0126\n",
            "[Epoch 5/50] Loss: 0.0085\n",
            "[Epoch 6/50] Loss: 0.0069\n",
            "[Epoch 7/50] Loss: 0.0056\n",
            "[Epoch 8/50] Loss: 0.0066\n",
            "[Epoch 9/50] Loss: 0.0055\n",
            "[Epoch 10/50] Loss: 0.0042\n",
            "[Epoch 11/50] Loss: 0.0039\n",
            "[Epoch 12/50] Loss: 0.0037\n",
            "[Epoch 13/50] Loss: 0.0032\n",
            "[Epoch 14/50] Loss: 0.0036\n",
            "[Epoch 15/50] Loss: 0.0031\n",
            "[Epoch 16/50] Loss: 0.0030\n",
            "[Epoch 17/50] Loss: 0.0027\n",
            "[Epoch 18/50] Loss: 0.0029\n",
            "[Epoch 19/50] Loss: 0.0027\n",
            "[Epoch 20/50] Loss: 0.0026\n",
            "[Epoch 21/50] Loss: 0.0026\n",
            "[Epoch 22/50] Loss: 0.0024\n",
            "[Epoch 23/50] Loss: 0.0029\n",
            "[Epoch 24/50] Loss: 0.0028\n",
            "[Epoch 25/50] Loss: 0.0031\n",
            "[Epoch 26/50] Loss: 0.0026\n",
            "[Epoch 27/50] Loss: 0.0025\n",
            "[Epoch 28/50] Loss: 0.0028\n",
            "[Epoch 29/50] Loss: 0.0025\n",
            "[Epoch 30/50] Loss: 0.0024\n",
            "[Epoch 31/50] Loss: 0.0023\n",
            "[Epoch 32/50] Loss: 0.0022\n",
            "[Epoch 33/50] Loss: 0.0022\n",
            "[Epoch 34/50] Loss: 0.0026\n",
            "[Epoch 35/50] Loss: 0.0021\n",
            "[Epoch 36/50] Loss: 0.0023\n",
            "[Epoch 37/50] Loss: 0.0024\n",
            "[Epoch 38/50] Loss: 0.0024\n",
            "[Epoch 39/50] Loss: 0.0024\n",
            "[Epoch 40/50] Loss: 0.0023\n",
            "[Epoch 41/50] Loss: 0.0022\n",
            "[Epoch 42/50] Loss: 0.0021\n",
            "[Epoch 43/50] Loss: 0.0021\n",
            "[Epoch 44/50] Loss: 0.0023\n",
            "[Epoch 45/50] Loss: 0.0021\n",
            "[Epoch 46/50] Loss: 0.0024\n",
            "[Epoch 47/50] Loss: 0.0020\n",
            "[Epoch 48/50] Loss: 0.0021\n",
            "[Epoch 49/50] Loss: 0.0023\n",
            "[Epoch 50/50] Loss: 0.0023\n"
          ]
        },
        {
          "output_type": "display_data",
          "data": {
            "text/plain": [
              "<Figure size 640x480 with 1 Axes>"
            ],
            "image/png": "[encoded data removed]"
          },
          "metadata": {}
        }
      ]
    },
    {
      "cell_type": "code",
      "source": [
        "# Save PyTorch model\n",
        "torch.save(model.state_dict(), \"/content/models/stolen_encoder.pth\")\n",
        "print(\"Saved PyTorch model\")\n"
      ],
      "metadata": {
        "colab": {
          "base_uri": "https://localhost:8080/"
        },
        "id": "CDA4KmOuxr7z",
        "outputId": "91797837-b8da-4720-8dcc-a2e915566c9b"
      },
      "execution_count": null,
      "outputs": [
        {
          "output_type": "stream",
          "name": "stdout",
          "text": [
            "Saved PyTorch model\n"
          ]
        }
      ]
    },
    {
      "cell_type": "code",
      "source": [
        "! pip install -q onnx"
      ],
      "metadata": {
        "colab": {
          "base_uri": "https://localhost:8080/"
        },
        "id": "GZReFR1h1c7E",
        "outputId": "f94cd12d-ec29-4953-8161-a1f38a26f630"
      },
      "execution_count": null,
      "outputs": [
        {
          "output_type": "stream",
          "name": "stdout",
          "text": [
            "\u001b[2K   \u001b[90m━━━━━━━━━━━━━━━━━━━━━━━━━━━━━━━━━━━━━━━━\u001b[0m \u001b[32m17.6/17.6 MB\u001b[0m \u001b[31m116.9 MB/s\u001b[0m eta \u001b[36m0:00:00\u001b[0m\n",
            "\u001b[?25h"
          ]
        }
      ]
    },
    {
      "cell_type": "code",
      "source": [
        "import os\n",
        "import torch.onnx\n",
        "import onnxruntime\n",
        "\n",
        "# Path to save\n",
        "onnx_path = \"/content/models/stolen_encoder.onnx\"\n",
        "\n",
        "# Dummy input for tracing (match (1,3,32,32))\n",
        "dummy_input = torch.randn(1, 3, 32, 32).to(device)\n",
        "\n",
        "# Export the model\n",
        "torch.onnx.export(\n",
        "    model,\n",
        "    dummy_input,\n",
        "    onnx_path,\n",
        "    input_names=[\"x\"],\n",
        "    output_names=[\"embedding\"],\n",
        "    export_params=True,\n",
        "    opset_version=11,\n",
        "    do_constant_folding=True,\n",
        "    verbose=False\n",
        ")\n",
        "\n",
        "print(f\"Exported ONNX model to: {onnx_path}\")\n"
      ],
      "metadata": {
        "colab": {
          "base_uri": "https://localhost:8080/"
        },
        "id": "AZN1uc3I0XPX",
        "outputId": "1b557e1a-589d-498e-d61a-c9d03e9023bd"
      },
      "execution_count": null,
      "outputs": [
        {
          "output_type": "stream",
          "name": "stdout",
          "text": [
            "Exported ONNX model to: /content/models/stolen_encoder.onnx\n"
          ]
        }
      ]
    },
    {
      "cell_type": "markdown",
      "source": [
        "## SIMCLR"
      ],
      "metadata": {
        "id": "OGS6qaG-jMW-"
      }
    },
    {
      "cell_type": "code",
      "source": [
        "import torch\n",
        "import torch.nn as nn\n",
        "import torch.nn.functional as F\n",
        "import numpy as np\n",
        "import matplotlib.pyplot as plt\n",
        "from torchvision import transforms\n",
        "from torch.utils.data import Dataset, DataLoader\n",
        "from PIL import Image\n",
        "import os\n",
        "\n",
        "# Path to victim embeddings and image dataset\n",
        "EMB_PATH = \"/content/public_embeddings_seed61437433_port9732.npz\"\n",
        "IMG_PATH = \"/content/ModelStealingPub.pt\"\n"
      ],
      "metadata": {
        "id": "arxvQdkp0tZM"
      },
      "execution_count": 4,
      "outputs": []
    },
    {
      "cell_type": "code",
      "source": [
        "# Load victim embeddings and image indices\n",
        "data = np.load(EMB_PATH)\n",
        "reps = data[\"reps\"]       # shape: (N,1024)\n",
        "indices = data[\"indices\"]"
      ],
      "metadata": {
        "id": "9rriINKjkGw2"
      },
      "execution_count": 5,
      "outputs": []
    },
    {
      "cell_type": "code",
      "source": [
        "# Load full dataset and extract relevant images\n",
        "full_dataset = torch.load(IMG_PATH, weights_only=False)\n",
        "images = [full_dataset.imgs[i] for i in indices]\n",
        "\n",
        "print(f\"Loaded {len(images)} images and {reps.shape[0]} victim embeddings\")"
      ],
      "metadata": {
        "colab": {
          "base_uri": "https://localhost:8080/"
        },
        "id": "t9XKFDcxkPum",
        "outputId": "b5a19589-996c-4965-eb5c-3b24959364d9"
      },
      "execution_count": 6,
      "outputs": [
        {
          "output_type": "stream",
          "name": "stdout",
          "text": [
            "Loaded 1000 images and 1000 victim embeddings\n"
          ]
        }
      ]
    },
    {
      "cell_type": "code",
      "source": [
        "# SimCLR augmentations (strong)\n",
        "simclr_transform = transforms.Compose([\n",
        "    transforms.RandomResizedCrop(32, scale=(0.2, 1.0)),\n",
        "    transforms.RandomHorizontalFlip(),\n",
        "    transforms.ColorJitter(0.4, 0.4, 0.4, 0.1),\n",
        "    transforms.RandomGrayscale(p=0.2),\n",
        "    transforms.ToTensor(),\n",
        "    transforms.Normalize(mean=[0.485, 0.456, 0.406],\n",
        "                         std=[0.229, 0.224, 0.225])\n",
        "])"
      ],
      "metadata": {
        "id": "oORAFNGBkRdt"
      },
      "execution_count": 7,
      "outputs": []
    },
    {
      "cell_type": "code",
      "source": [
        "# Dataset class returning two views + victim rep\n",
        "class SimCLRDataset(Dataset):\n",
        "    def __init__(self, images, victim_reps, transform):\n",
        "        self.images = images\n",
        "        self.vreps = torch.from_numpy(victim_reps).float()\n",
        "        self.transform = transform\n",
        "\n",
        "    def __len__(self):\n",
        "        return len(self.images)\n",
        "\n",
        "    def __getitem__(self, idx):\n",
        "        img = self.images[idx]\n",
        "        if img.mode != 'RGB':\n",
        "            img = img.convert(\"RGB\")\n",
        "        t1 = self.transform(img)\n",
        "        t2 = self.transform(img)\n",
        "        rep = self.vreps[idx]\n",
        "        return t1, t2, rep"
      ],
      "metadata": {
        "id": "Pd1xcnpPkhyF"
      },
      "execution_count": 8,
      "outputs": []
    },
    {
      "cell_type": "code",
      "source": [
        "# Show original image and two augmented views\n",
        "img_example = images[9]\n",
        "aug1 = simclr_transform(img_example)\n",
        "aug2 = simclr_transform(img_example)\n",
        "\n",
        "# Convert tensors back to image format for display\n",
        "def deprocess(t):\n",
        "    t = t.clone().detach().permute(1,2,0)\n",
        "    t = t * torch.tensor([0.229, 0.224, 0.225]) + torch.tensor([0.485, 0.456, 0.406])\n",
        "    return t.clamp(0, 1).numpy()\n",
        "\n",
        "plt.figure(figsize=(10,3))\n",
        "plt.subplot(1,3,1)\n",
        "plt.imshow(img_example)\n",
        "plt.title(\"Original\")\n",
        "plt.axis('off')\n",
        "\n",
        "plt.subplot(1,3,2)\n",
        "plt.imshow(deprocess(aug1))\n",
        "plt.title(\"Aug View 1\")\n",
        "plt.axis('off')\n",
        "\n",
        "plt.subplot(1,3,3)\n",
        "plt.imshow(deprocess(aug2))\n",
        "plt.title(\"Aug View 2\")\n",
        "plt.axis('off')\n",
        "plt.tight_layout()\n",
        "plt.show()"
      ],
      "metadata": {
        "colab": {
          "base_uri": "https://localhost:8080/",
          "height": 308
        },
        "id": "BVdflxHZkkP2",
        "outputId": "f55bb5dc-c49b-412a-be66-9933c7ee53c8"
      },
      "execution_count": 9,
      "outputs": [
        {
          "output_type": "display_data",
          "data": {
            "text/plain": [
              "<Figure size 1000x300 with 3 Axes>"
            ],
            "image/png": "[encoded data removed]"
          },
          "metadata": {}
        }
      ]
    },
    {
      "cell_type": "code",
      "source": [
        "from torchvision.models import resnet18\n",
        "from torchvision.models import resnet50\n",
        "from torchvision import models\n",
        "\n",
        "class StolenEncoder(nn.Module):\n",
        "    def __init__(self):\n",
        "        super().__init__()\n",
        "        self.backbone = resnet18(pretrained=False)\n",
        "        self.backbone.fc = nn.Identity()\n",
        "        self.head = nn.Sequential(\n",
        "            nn.Linear(512, 512),\n",
        "            nn.ReLU(),\n",
        "            nn.Linear(512, 1024)\n",
        "        )\n",
        "\n",
        "    def forward(self, x):\n",
        "        x = self.backbone(x)\n",
        "        x = self.head(x)\n",
        "        return x\n",
        "\n",
        "\n",
        "# class StolenEncoder(nn.Module):\n",
        "#     def __init__(self):\n",
        "#         super().__init__()\n",
        "#         self.backbone = models.resnet50(pretrained=False)\n",
        "#         self.backbone.fc = nn.Identity()\n",
        "#         self.head = nn.Sequential(\n",
        "#             nn.Linear(2048, 1024),\n",
        "#             nn.BatchNorm1d(1024),\n",
        "#             nn.ReLU(),\n",
        "#             nn.Linear(1024, 1024),\n",
        "#             nn.BatchNorm1d(1024)\n",
        "#         )\n",
        "\n",
        "#     def forward(self, x):\n",
        "#         x = self.backbone(x)\n",
        "#         x = self.head(x)\n",
        "#         return x"
      ],
      "metadata": {
        "id": "aMrzWvVuktHD"
      },
      "execution_count": 10,
      "outputs": []
    },
    {
      "cell_type": "markdown",
      "source": [
        "### MSE losses"
      ],
      "metadata": {
        "id": "PhIx-aF1qOZV"
      }
    },
    {
      "cell_type": "code",
      "source": [
        "# device = torch.device(\"cuda\" if torch.cuda.is_available() else \"cpu\")\n",
        "# model = StolenEncoder().to(device)\n",
        "# optimizer = torch.optim.Adam(model.parameters(), lr=1e-4)\n",
        "# loader = DataLoader(SimCLRDataset(images, reps, simclr_transform), batch_size=64, shuffle=True)\n",
        "\n",
        "# alpha = 0.9  # weight between victim alignment and self-consistency\n",
        "# num_epochs = 15\n",
        "# loss_history = []\n",
        "\n",
        "# for epoch in range(1, num_epochs+1):\n",
        "#     model.train()\n",
        "#     total = 0\n",
        "#     for t1, t2, yv in loader:\n",
        "#         t1, t2, yv = t1.to(device), t2.to(device), yv.to(device)\n",
        "\n",
        "#         optimizer.zero_grad()\n",
        "#         o1 = model(t1)         # (B,1024)\n",
        "#         o2 = model(t2)         # (B,1024)\n",
        "#         loss_A = F.mse_loss(o1, yv)\n",
        "#         loss_B = F.mse_loss(o2, o1.detach())\n",
        "#         loss = alpha * loss_A + (1 - alpha) * loss_B              # contrastive/old loss/MSE aggregated loss\n",
        "#         # loss = 1 - F.cosine_similarity(o1, yv, dim=1).mean()        # cosine similarity loss\n",
        "#         loss.backward()\n",
        "#         optimizer.step()\n",
        "#         total += loss.item()\n",
        "\n",
        "#     avg = total / len(loader)\n",
        "#     loss_history.append(avg)\n",
        "#     print(f\"[Epoch {epoch}] Loss: {avg:.4f}\")\n",
        "\n",
        "# # Plot training loss\n",
        "# plt.plot(loss_history, marker='o')\n",
        "# plt.title(\"SimCLR MSE Loss\")\n",
        "# plt.xlabel(\"Epoch\")\n",
        "# plt.ylabel(\"Loss\")\n",
        "# plt.grid(True)\n",
        "# plt.show()\n"
      ],
      "metadata": {
        "colab": {
          "base_uri": "https://localhost:8080/",
          "height": 822
        },
        "id": "gvUnS0ocqCRt",
        "outputId": "c7bd3f65-5ada-4518-b10f-9aa1c90a0328"
      },
      "execution_count": 13,
      "outputs": [
        {
          "output_type": "stream",
          "name": "stderr",
          "text": [
            "/usr/local/lib/python3.11/dist-packages/torchvision/models/_utils.py:208: UserWarning: The parameter 'pretrained' is deprecated since 0.13 and may be removed in the future, please use 'weights' instead.\n",
            "  warnings.warn(\n",
            "/usr/local/lib/python3.11/dist-packages/torchvision/models/_utils.py:223: UserWarning: Arguments other than a weight enum or `None` for 'weights' are deprecated since 0.13 and may be removed in the future. The current behavior is equivalent to passing `weights=None`.\n",
            "  warnings.warn(msg)\n"
          ]
        },
        {
          "output_type": "stream",
          "name": "stdout",
          "text": [
            "[Epoch 1] Loss: 1.7684\n",
            "[Epoch 2] Loss: 1.7162\n",
            "[Epoch 3] Loss: 1.6546\n",
            "[Epoch 4] Loss: 1.6054\n",
            "[Epoch 5] Loss: 1.5868\n",
            "[Epoch 6] Loss: 1.5761\n",
            "[Epoch 7] Loss: 1.5660\n",
            "[Epoch 8] Loss: 1.5575\n",
            "[Epoch 9] Loss: 1.5524\n",
            "[Epoch 10] Loss: 1.5421\n",
            "[Epoch 11] Loss: 1.5416\n",
            "[Epoch 12] Loss: 1.5347\n",
            "[Epoch 13] Loss: 1.5324\n",
            "[Epoch 14] Loss: 1.5248\n",
            "[Epoch 15] Loss: 1.5190\n"
          ]
        },
        {
          "output_type": "display_data",
          "data": {
            "text/plain": [
              "<Figure size 640x480 with 1 Axes>"
            ],
            "image/png": "[encoded data removed]"
          },
          "metadata": {}
        }
      ]
    },
    {
      "cell_type": "code",
      "source": [
        "# device = torch.device(\"cuda\" if torch.cuda.is_available() else \"cpu\")\n",
        "# model = StolenEncoder().to(device)\n",
        "# num_epochs = 50\n",
        "# alpha = 0.95\n",
        "\n",
        "# optimizer = torch.optim.AdamW(model.parameters(), lr=1e-4)\n",
        "# scheduler = torch.optim.lr_scheduler.CosineAnnealingLR(optimizer, T_max=num_epochs)\n",
        "# loader = DataLoader(SimCLRDataset(images, reps, simclr_transform), batch_size=64, shuffle=True)\n",
        "\n",
        "# loss_history = []\n",
        "\n",
        "\n",
        "# for epoch in range(1, num_epochs+1):\n",
        "#     model.train()\n",
        "#     total = 0\n",
        "\n",
        "#     for t1, t2, yv in loader:\n",
        "#         t1, t2, yv = t1.to(device), t2.to(device), yv.to(device)\n",
        "\n",
        "#         optimizer.zero_grad()\n",
        "#         o1 = model(t1)\n",
        "#         o2 = model(t2)\n",
        "\n",
        "#         loss_A = F.mse_loss(o1, yv)\n",
        "#         loss_B = F.mse_loss(o2, o1.detach())\n",
        "#         loss = alpha * loss_A + (1 - alpha) * loss_B\n",
        "\n",
        "#         loss.backward()\n",
        "#         optimizer.step()\n",
        "#         total += loss.item()\n",
        "\n",
        "#     scheduler.step()\n",
        "\n",
        "#     avg = total / len(loader)\n",
        "#     loss_history.append(avg)\n",
        "#     print(f\"[Epoch {epoch}] Loss: {avg:.4f}\")\n",
        "\n",
        "# # Plot training loss\n",
        "# plt.plot(loss_history, marker='o')\n",
        "# plt.title(\"SimCLR MSE Loss with scheduler\")\n",
        "# plt.xlabel(\"Epoch\")\n",
        "# plt.ylabel(\"Loss\")\n",
        "# plt.grid(True)\n",
        "# plt.show()"
      ],
      "metadata": {
        "colab": {
          "base_uri": "https://localhost:8080/",
          "height": 1000
        },
        "id": "pWtSZEh8ZrU2",
        "outputId": "885a9e30-61d3-4ec0-aea2-ae3418aba66f"
      },
      "execution_count": 21,
      "outputs": [
        {
          "output_type": "stream",
          "name": "stdout",
          "text": [
            "[Epoch 1] Loss: 0.6319\n",
            "[Epoch 2] Loss: 0.2394\n",
            "[Epoch 3] Loss: 0.0578\n",
            "[Epoch 4] Loss: 0.0189\n",
            "[Epoch 5] Loss: 0.0107\n",
            "[Epoch 6] Loss: 0.0074\n",
            "[Epoch 7] Loss: 0.0067\n",
            "[Epoch 8] Loss: 0.0052\n",
            "[Epoch 9] Loss: 0.0054\n",
            "[Epoch 10] Loss: 0.0051\n",
            "[Epoch 11] Loss: 0.0042\n",
            "[Epoch 12] Loss: 0.0046\n",
            "[Epoch 13] Loss: 0.0038\n",
            "[Epoch 14] Loss: 0.0038\n",
            "[Epoch 15] Loss: 0.0035\n",
            "[Epoch 16] Loss: 0.0036\n",
            "[Epoch 17] Loss: 0.0031\n",
            "[Epoch 18] Loss: 0.0029\n",
            "[Epoch 19] Loss: 0.0034\n",
            "[Epoch 20] Loss: 0.0029\n",
            "[Epoch 21] Loss: 0.0030\n",
            "[Epoch 22] Loss: 0.0029\n",
            "[Epoch 23] Loss: 0.0027\n",
            "[Epoch 24] Loss: 0.0028\n",
            "[Epoch 25] Loss: 0.0026\n",
            "[Epoch 26] Loss: 0.0027\n",
            "[Epoch 27] Loss: 0.0027\n",
            "[Epoch 28] Loss: 0.0029\n",
            "[Epoch 29] Loss: 0.0030\n",
            "[Epoch 30] Loss: 0.0027\n",
            "[Epoch 31] Loss: 0.0026\n",
            "[Epoch 32] Loss: 0.0025\n",
            "[Epoch 33] Loss: 0.0025\n",
            "[Epoch 34] Loss: 0.0027\n",
            "[Epoch 35] Loss: 0.0027\n",
            "[Epoch 36] Loss: 0.0026\n",
            "[Epoch 37] Loss: 0.0024\n",
            "[Epoch 38] Loss: 0.0026\n",
            "[Epoch 39] Loss: 0.0026\n",
            "[Epoch 40] Loss: 0.0025\n",
            "[Epoch 41] Loss: 0.0024\n",
            "[Epoch 42] Loss: 0.0024\n",
            "[Epoch 43] Loss: 0.0024\n",
            "[Epoch 44] Loss: 0.0025\n",
            "[Epoch 45] Loss: 0.0026\n",
            "[Epoch 46] Loss: 0.0026\n",
            "[Epoch 47] Loss: 0.0025\n",
            "[Epoch 48] Loss: 0.0024\n",
            "[Epoch 49] Loss: 0.0023\n",
            "[Epoch 50] Loss: 0.0026\n"
          ]
        },
        {
          "output_type": "display_data",
          "data": {
            "text/plain": [
              "<Figure size 640x480 with 1 Axes>"
            ],
            "image/png": "[encoded data removed]"
          },
          "metadata": {}
        }
      ]
    },
    {
      "cell_type": "markdown",
      "source": [
        "### MSE loss full optimized"
      ],
      "metadata": {
        "id": "FygSrVvGjCvm"
      }
    },
    {
      "cell_type": "code",
      "source": [
        "import torch\n",
        "import torch.nn.functional as F\n",
        "from torch.utils.data import DataLoader\n",
        "import matplotlib.pyplot as plt\n",
        "from torchvision import transforms\n",
        "\n",
        "# === Define Model ===\n",
        "device = torch.device(\"cuda\" if torch.cuda.is_available() else \"cpu\")\n",
        "model = StolenEncoder().to(device)  # Your surrogate ResNet18 + MLP head\n",
        "optimizer = torch.optim.Adam(model.parameters(), lr=1e-4)\n",
        "scheduler = torch.optim.lr_scheduler.CosineAnnealingWarmRestarts(optimizer, T_0=50, T_mult=2)\n",
        "\n",
        "# === Hyperparameters ===\n",
        "alpha = 0.97                     # Try 0.97 or 0.99\n",
        "num_epochs = 300\n",
        "batch_size = 32\n",
        "max_norm = 1.0                   # For gradient clipping\n",
        "\n",
        "# === DataLoader ===\n",
        "loader = DataLoader(SimCLRDataset(images, reps, simclr_transform),\n",
        "                    batch_size=batch_size, shuffle=True)\n",
        "\n",
        "# === Train Loop ===\n",
        "loss_history = []\n",
        "\n",
        "for epoch in range(1, num_epochs + 1):\n",
        "    model.train()\n",
        "    total_loss = 0\n",
        "\n",
        "    for t1, t2, yv in loader:\n",
        "        t1, t2, yv = t1.to(device), t2.to(device), yv.to(device)\n",
        "\n",
        "        optimizer.zero_grad()\n",
        "\n",
        "        o1 = model(t1)               # Embedding of t1\n",
        "        o2 = model(t2)               # Embedding of t2\n",
        "\n",
        "        loss_A = F.mse_loss(o1, yv)  # Align t1 with victim's yv\n",
        "        loss_B = F.mse_loss(o2, o1.detach())  # Self-consistency\n",
        "        loss = alpha * loss_A + (1 - alpha) * loss_B\n",
        "\n",
        "        loss.backward()\n",
        "        torch.nn.utils.clip_grad_norm_(model.parameters(), max_norm=max_norm)  # 🧠 Clip gradients\n",
        "        optimizer.step()\n",
        "        scheduler.step(epoch + total_loss)  # 🔁 Restart scheduler\n",
        "\n",
        "        total_loss += loss.item()\n",
        "\n",
        "    avg_loss = total_loss / len(loader)\n",
        "    loss_history.append(avg_loss)\n",
        "    print(f\"[Epoch {epoch}] Loss: {avg_loss:.6f}\")\n",
        "\n",
        "# === Plot Training Curve ===\n",
        "plt.plot(loss_history, marker='o')\n",
        "plt.title(\"SimCLR MSE Loss with Scheduler\")\n",
        "plt.xlabel(\"Epoch\")\n",
        "plt.ylabel(\"Loss\")\n",
        "plt.grid(True)\n",
        "plt.show()\n"
      ],
      "metadata": {
        "colab": {
          "base_uri": "https://localhost:8080/",
          "height": 1000
        },
        "id": "GqkMuSHifQ2u",
        "outputId": "c670c27e-16ad-4b6e-8e3f-b698ed115e86"
      },
      "execution_count": 11,
      "outputs": [
        {
          "output_type": "stream",
          "name": "stderr",
          "text": [
            "/usr/local/lib/python3.11/dist-packages/torchvision/models/_utils.py:208: UserWarning: The parameter 'pretrained' is deprecated since 0.13 and may be removed in the future, please use 'weights' instead.\n",
            "  warnings.warn(\n",
            "/usr/local/lib/python3.11/dist-packages/torchvision/models/_utils.py:223: UserWarning: Arguments other than a weight enum or `None` for 'weights' are deprecated since 0.13 and may be removed in the future. The current behavior is equivalent to passing `weights=None`.\n",
            "  warnings.warn(msg)\n"
          ]
        },
        {
          "output_type": "stream",
          "name": "stdout",
          "text": [
            "[Epoch 1] Loss: 0.472744\n",
            "[Epoch 2] Loss: 0.060268\n",
            "[Epoch 3] Loss: 0.014078\n",
            "[Epoch 4] Loss: 0.009463\n",
            "[Epoch 5] Loss: 0.006443\n",
            "[Epoch 6] Loss: 0.005300\n",
            "[Epoch 7] Loss: 0.004554\n",
            "[Epoch 8] Loss: 0.004412\n",
            "[Epoch 9] Loss: 0.004151\n",
            "[Epoch 10] Loss: 0.004529\n",
            "[Epoch 11] Loss: 0.003722\n",
            "[Epoch 12] Loss: 0.003463\n",
            "[Epoch 13] Loss: 0.003310\n",
            "[Epoch 14] Loss: 0.003538\n",
            "[Epoch 15] Loss: 0.002948\n",
            "[Epoch 16] Loss: 0.002976\n",
            "[Epoch 17] Loss: 0.002971\n",
            "[Epoch 18] Loss: 0.002721\n",
            "[Epoch 19] Loss: 0.003046\n",
            "[Epoch 20] Loss: 0.002849\n",
            "[Epoch 21] Loss: 0.002784\n",
            "[Epoch 22] Loss: 0.002749\n",
            "[Epoch 23] Loss: 0.002980\n",
            "[Epoch 24] Loss: 0.002831\n",
            "[Epoch 25] Loss: 0.002744\n",
            "[Epoch 26] Loss: 0.002834\n",
            "[Epoch 27] Loss: 0.002552\n",
            "[Epoch 28] Loss: 0.002647\n",
            "[Epoch 29] Loss: 0.002694\n",
            "[Epoch 30] Loss: 0.002805\n",
            "[Epoch 31] Loss: 0.002818\n",
            "[Epoch 32] Loss: 0.002661\n",
            "[Epoch 33] Loss: 0.002533\n",
            "[Epoch 34] Loss: 0.002445\n",
            "[Epoch 35] Loss: 0.002417\n",
            "[Epoch 36] Loss: 0.002595\n",
            "[Epoch 37] Loss: 0.002661\n",
            "[Epoch 38] Loss: 0.002461\n",
            "[Epoch 39] Loss: 0.002507\n",
            "[Epoch 40] Loss: 0.002530\n",
            "[Epoch 41] Loss: 0.002650\n",
            "[Epoch 42] Loss: 0.002428\n",
            "[Epoch 43] Loss: 0.002446\n",
            "[Epoch 44] Loss: 0.002601\n",
            "[Epoch 45] Loss: 0.002651\n",
            "[Epoch 46] Loss: 0.002696\n",
            "[Epoch 47] Loss: 0.002377\n",
            "[Epoch 48] Loss: 0.002371\n",
            "[Epoch 49] Loss: 0.002392\n",
            "[Epoch 50] Loss: 0.002532\n",
            "[Epoch 51] Loss: 0.002740\n",
            "[Epoch 52] Loss: 0.002668\n",
            "[Epoch 53] Loss: 0.002621\n",
            "[Epoch 54] Loss: 0.002441\n",
            "[Epoch 55] Loss: 0.002609\n",
            "[Epoch 56] Loss: 0.002550\n",
            "[Epoch 57] Loss: 0.002510\n",
            "[Epoch 58] Loss: 0.002422\n",
            "[Epoch 59] Loss: 0.002463\n",
            "[Epoch 60] Loss: 0.002459\n",
            "[Epoch 61] Loss: 0.002558\n",
            "[Epoch 62] Loss: 0.002322\n",
            "[Epoch 63] Loss: 0.002309\n",
            "[Epoch 64] Loss: 0.002331\n",
            "[Epoch 65] Loss: 0.002308\n",
            "[Epoch 66] Loss: 0.002314\n",
            "[Epoch 67] Loss: 0.002155\n",
            "[Epoch 68] Loss: 0.002227\n",
            "[Epoch 69] Loss: 0.002462\n",
            "[Epoch 70] Loss: 0.002382\n",
            "[Epoch 71] Loss: 0.002327\n",
            "[Epoch 72] Loss: 0.002400\n",
            "[Epoch 73] Loss: 0.002169\n",
            "[Epoch 74] Loss: 0.002111\n",
            "[Epoch 75] Loss: 0.002147\n",
            "[Epoch 76] Loss: 0.002117\n",
            "[Epoch 77] Loss: 0.002049\n",
            "[Epoch 78] Loss: 0.002204\n",
            "[Epoch 79] Loss: 0.002263\n",
            "[Epoch 80] Loss: 0.001959\n",
            "[Epoch 81] Loss: 0.001936\n",
            "[Epoch 82] Loss: 0.001953\n",
            "[Epoch 83] Loss: 0.002034\n",
            "[Epoch 84] Loss: 0.001943\n",
            "[Epoch 85] Loss: 0.002217\n",
            "[Epoch 86] Loss: 0.002037\n",
            "[Epoch 87] Loss: 0.002036\n",
            "[Epoch 88] Loss: 0.001914\n",
            "[Epoch 89] Loss: 0.002079\n",
            "[Epoch 90] Loss: 0.001900\n",
            "[Epoch 91] Loss: 0.001951\n",
            "[Epoch 92] Loss: 0.001937\n",
            "[Epoch 93] Loss: 0.001978\n",
            "[Epoch 94] Loss: 0.001971\n",
            "[Epoch 95] Loss: 0.001986\n",
            "[Epoch 96] Loss: 0.001992\n",
            "[Epoch 97] Loss: 0.001889\n",
            "[Epoch 98] Loss: 0.001938\n",
            "[Epoch 99] Loss: 0.001862\n",
            "[Epoch 100] Loss: 0.001797\n",
            "[Epoch 101] Loss: 0.001878\n",
            "[Epoch 102] Loss: 0.001889\n",
            "[Epoch 103] Loss: 0.001932\n",
            "[Epoch 104] Loss: 0.001811\n",
            "[Epoch 105] Loss: 0.001923\n",
            "[Epoch 106] Loss: 0.001822\n",
            "[Epoch 107] Loss: 0.001977\n",
            "[Epoch 108] Loss: 0.001888\n",
            "[Epoch 109] Loss: 0.001782\n",
            "[Epoch 110] Loss: 0.001748\n",
            "[Epoch 111] Loss: 0.001777\n",
            "[Epoch 112] Loss: 0.001756\n",
            "[Epoch 113] Loss: 0.001829\n",
            "[Epoch 114] Loss: 0.001824\n",
            "[Epoch 115] Loss: 0.001698\n",
            "[Epoch 116] Loss: 0.001849\n",
            "[Epoch 117] Loss: 0.001846\n",
            "[Epoch 118] Loss: 0.001856\n",
            "[Epoch 119] Loss: 0.001744\n",
            "[Epoch 120] Loss: 0.001881\n",
            "[Epoch 121] Loss: 0.001738\n",
            "[Epoch 122] Loss: 0.001713\n",
            "[Epoch 123] Loss: 0.001647\n",
            "[Epoch 124] Loss: 0.001748\n",
            "[Epoch 125] Loss: 0.001696\n",
            "[Epoch 126] Loss: 0.001815\n",
            "[Epoch 127] Loss: 0.001751\n",
            "[Epoch 128] Loss: 0.001676\n",
            "[Epoch 129] Loss: 0.001639\n",
            "[Epoch 130] Loss: 0.001749\n",
            "[Epoch 131] Loss: 0.001591\n",
            "[Epoch 132] Loss: 0.001681\n",
            "[Epoch 133] Loss: 0.001713\n",
            "[Epoch 134] Loss: 0.001766\n",
            "[Epoch 135] Loss: 0.001666\n",
            "[Epoch 136] Loss: 0.001648\n",
            "[Epoch 137] Loss: 0.001619\n",
            "[Epoch 138] Loss: 0.001661\n",
            "[Epoch 139] Loss: 0.001643\n",
            "[Epoch 140] Loss: 0.001585\n",
            "[Epoch 141] Loss: 0.001669\n",
            "[Epoch 142] Loss: 0.001677\n",
            "[Epoch 143] Loss: 0.001625\n",
            "[Epoch 144] Loss: 0.001670\n",
            "[Epoch 145] Loss: 0.001722\n",
            "[Epoch 146] Loss: 0.001705\n",
            "[Epoch 147] Loss: 0.001568\n",
            "[Epoch 148] Loss: 0.001538\n",
            "[Epoch 149] Loss: 0.001649\n",
            "[Epoch 150] Loss: 0.002100\n",
            "[Epoch 151] Loss: 0.002786\n",
            "[Epoch 152] Loss: 0.002803\n",
            "[Epoch 153] Loss: 0.002386\n",
            "[Epoch 154] Loss: 0.002057\n",
            "[Epoch 155] Loss: 0.001930\n",
            "[Epoch 156] Loss: 0.001945\n",
            "[Epoch 157] Loss: 0.001855\n",
            "[Epoch 158] Loss: 0.001866\n",
            "[Epoch 159] Loss: 0.001967\n",
            "[Epoch 160] Loss: 0.001934\n",
            "[Epoch 161] Loss: 0.001981\n",
            "[Epoch 162] Loss: 0.001870\n",
            "[Epoch 163] Loss: 0.001954\n",
            "[Epoch 164] Loss: 0.001970\n",
            "[Epoch 165] Loss: 0.001946\n",
            "[Epoch 166] Loss: 0.001783\n",
            "[Epoch 167] Loss: 0.001892\n",
            "[Epoch 168] Loss: 0.001893\n",
            "[Epoch 169] Loss: 0.001782\n",
            "[Epoch 170] Loss: 0.001931\n",
            "[Epoch 171] Loss: 0.001775\n",
            "[Epoch 172] Loss: 0.001822\n",
            "[Epoch 173] Loss: 0.001649\n",
            "[Epoch 174] Loss: 0.001887\n",
            "[Epoch 175] Loss: 0.001847\n",
            "[Epoch 176] Loss: 0.001850\n",
            "[Epoch 177] Loss: 0.001906\n",
            "[Epoch 178] Loss: 0.001752\n",
            "[Epoch 179] Loss: 0.001757\n",
            "[Epoch 180] Loss: 0.001782\n",
            "[Epoch 181] Loss: 0.001807\n",
            "[Epoch 182] Loss: 0.001822\n",
            "[Epoch 183] Loss: 0.001757\n",
            "[Epoch 184] Loss: 0.001726\n",
            "[Epoch 185] Loss: 0.001738\n",
            "[Epoch 186] Loss: 0.001723\n",
            "[Epoch 187] Loss: 0.001819\n",
            "[Epoch 188] Loss: 0.001830\n",
            "[Epoch 189] Loss: 0.001787\n",
            "[Epoch 190] Loss: 0.001695\n",
            "[Epoch 191] Loss: 0.001733\n",
            "[Epoch 192] Loss: 0.001636\n",
            "[Epoch 193] Loss: 0.001681\n",
            "[Epoch 194] Loss: 0.001761\n",
            "[Epoch 195] Loss: 0.001740\n",
            "[Epoch 196] Loss: 0.001677\n",
            "[Epoch 197] Loss: 0.001764\n",
            "[Epoch 198] Loss: 0.001687\n",
            "[Epoch 199] Loss: 0.001634\n",
            "[Epoch 200] Loss: 0.001796\n",
            "[Epoch 201] Loss: 0.001661\n",
            "[Epoch 202] Loss: 0.001621\n",
            "[Epoch 203] Loss: 0.001723\n",
            "[Epoch 204] Loss: 0.001558\n",
            "[Epoch 205] Loss: 0.001565\n",
            "[Epoch 206] Loss: 0.001675\n",
            "[Epoch 207] Loss: 0.001707\n",
            "[Epoch 208] Loss: 0.001628\n",
            "[Epoch 209] Loss: 0.001673\n",
            "[Epoch 210] Loss: 0.001579\n",
            "[Epoch 211] Loss: 0.001648\n",
            "[Epoch 212] Loss: 0.001562\n",
            "[Epoch 213] Loss: 0.001636\n",
            "[Epoch 214] Loss: 0.001619\n",
            "[Epoch 215] Loss: 0.001587\n",
            "[Epoch 216] Loss: 0.001600\n",
            "[Epoch 217] Loss: 0.001631\n",
            "[Epoch 218] Loss: 0.001617\n",
            "[Epoch 219] Loss: 0.001705\n",
            "[Epoch 220] Loss: 0.001770\n",
            "[Epoch 221] Loss: 0.001597\n",
            "[Epoch 222] Loss: 0.001562\n",
            "[Epoch 223] Loss: 0.001592\n",
            "[Epoch 224] Loss: 0.001654\n",
            "[Epoch 225] Loss: 0.001578\n",
            "[Epoch 226] Loss: 0.001596\n",
            "[Epoch 227] Loss: 0.001566\n",
            "[Epoch 228] Loss: 0.001717\n",
            "[Epoch 229] Loss: 0.001525\n",
            "[Epoch 230] Loss: 0.001548\n",
            "[Epoch 231] Loss: 0.001555\n",
            "[Epoch 232] Loss: 0.001602\n",
            "[Epoch 233] Loss: 0.001521\n",
            "[Epoch 234] Loss: 0.001463\n",
            "[Epoch 235] Loss: 0.001504\n",
            "[Epoch 236] Loss: 0.001571\n",
            "[Epoch 237] Loss: 0.001590\n",
            "[Epoch 238] Loss: 0.001445\n",
            "[Epoch 239] Loss: 0.001578\n",
            "[Epoch 240] Loss: 0.001469\n",
            "[Epoch 241] Loss: 0.001468\n",
            "[Epoch 242] Loss: 0.001452\n",
            "[Epoch 243] Loss: 0.001494\n",
            "[Epoch 244] Loss: 0.001529\n",
            "[Epoch 245] Loss: 0.001489\n",
            "[Epoch 246] Loss: 0.001506\n",
            "[Epoch 247] Loss: 0.001474\n",
            "[Epoch 248] Loss: 0.001462\n",
            "[Epoch 249] Loss: 0.001535\n",
            "[Epoch 250] Loss: 0.001585\n",
            "[Epoch 251] Loss: 0.001673\n",
            "[Epoch 252] Loss: 0.001537\n",
            "[Epoch 253] Loss: 0.001512\n",
            "[Epoch 254] Loss: 0.001448\n",
            "[Epoch 255] Loss: 0.001514\n",
            "[Epoch 256] Loss: 0.001470\n",
            "[Epoch 257] Loss: 0.001524\n",
            "[Epoch 258] Loss: 0.001475\n",
            "[Epoch 259] Loss: 0.001437\n",
            "[Epoch 260] Loss: 0.001463\n",
            "[Epoch 261] Loss: 0.001492\n",
            "[Epoch 262] Loss: 0.001498\n",
            "[Epoch 263] Loss: 0.001493\n",
            "[Epoch 264] Loss: 0.001477\n",
            "[Epoch 265] Loss: 0.001389\n",
            "[Epoch 266] Loss: 0.001409\n",
            "[Epoch 267] Loss: 0.001435\n",
            "[Epoch 268] Loss: 0.001451\n",
            "[Epoch 269] Loss: 0.001464\n",
            "[Epoch 270] Loss: 0.001483\n",
            "[Epoch 271] Loss: 0.001580\n",
            "[Epoch 272] Loss: 0.001560\n",
            "[Epoch 273] Loss: 0.001520\n",
            "[Epoch 274] Loss: 0.001429\n",
            "[Epoch 275] Loss: 0.001467\n",
            "[Epoch 276] Loss: 0.001521\n",
            "[Epoch 277] Loss: 0.001391\n",
            "[Epoch 278] Loss: 0.001428\n",
            "[Epoch 279] Loss: 0.001338\n",
            "[Epoch 280] Loss: 0.001465\n",
            "[Epoch 281] Loss: 0.001379\n",
            "[Epoch 282] Loss: 0.001414\n",
            "[Epoch 283] Loss: 0.001413\n",
            "[Epoch 284] Loss: 0.001484\n",
            "[Epoch 285] Loss: 0.001369\n",
            "[Epoch 286] Loss: 0.001452\n",
            "[Epoch 287] Loss: 0.001439\n",
            "[Epoch 288] Loss: 0.001338\n",
            "[Epoch 289] Loss: 0.001396\n",
            "[Epoch 290] Loss: 0.001371\n",
            "[Epoch 291] Loss: 0.001426\n",
            "[Epoch 292] Loss: 0.001437\n",
            "[Epoch 293] Loss: 0.001360\n",
            "[Epoch 294] Loss: 0.001390\n",
            "[Epoch 295] Loss: 0.001402\n",
            "[Epoch 296] Loss: 0.001366\n",
            "[Epoch 297] Loss: 0.001358\n",
            "[Epoch 298] Loss: 0.001329\n",
            "[Epoch 299] Loss: 0.001339\n",
            "[Epoch 300] Loss: 0.001385\n"
          ]
        },
        {
          "output_type": "display_data",
          "data": {
            "text/plain": [
              "<Figure size 640x480 with 1 Axes>"
            ],
            "image/png": "[encoded data removed]"
          },
          "metadata": {}
        }
      ]
    },
    {
      "cell_type": "markdown",
      "source": [
        "### resnet50"
      ],
      "metadata": {
        "id": "y2QvQwhkmZMQ"
      }
    },
    {
      "cell_type": "code",
      "source": [
        "def aggregate_loss(o1, o2, yv, alpha=0.9, beta=0.1):\n",
        "    mse_loss = F.mse_loss(o1, yv)\n",
        "    consistency = F.mse_loss(o2, o1.detach())\n",
        "    cosine_term = 1 - F.cosine_similarity(o1, yv, dim=1).mean()\n",
        "    total_loss = alpha * mse_loss + (1 - alpha) * consistency + beta * cosine_term\n",
        "    return total_loss"
      ],
      "metadata": {
        "id": "HGv-R0_LmbNJ"
      },
      "execution_count": 10,
      "outputs": []
    },
    {
      "cell_type": "code",
      "source": [
        "device = torch.device(\"cuda\" if torch.cuda.is_available() else \"cpu\")\n",
        "model = StolenEncoder().to(device)\n",
        "optimizer = torch.optim.AdamW(model.parameters(), lr=3e-4, weight_decay=1e-5)\n",
        "dataset = SimCLRDataset(images, reps, simclr_transform)\n",
        "loader = DataLoader(dataset, batch_size=64, shuffle=True)\n",
        "\n",
        "num_epochs = 120\n",
        "history = []\n",
        "\n",
        "for epoch in range(1, num_epochs+1):\n",
        "    model.train()\n",
        "    running_loss = 0.0\n",
        "\n",
        "    for t1, t2, yv in loader:\n",
        "        t1, t2, yv = t1.to(device), t2.to(device), yv.to(device)\n",
        "        o1 = model(t1)\n",
        "        o2 = model(t2)\n",
        "        loss = aggregate_loss(o1, o2, yv, alpha=0.9, beta=0.05)\n",
        "\n",
        "        optimizer.zero_grad()\n",
        "        loss.backward()\n",
        "        optimizer.step()\n",
        "\n",
        "        running_loss += loss.item()\n",
        "\n",
        "    avg_loss = running_loss / len(loader)\n",
        "    history.append(avg_loss)\n",
        "    print(f\"[Epoch {epoch}/{num_epochs}] Loss: {avg_loss:.4f}\")\n",
        "\n",
        "plt.plot(history, marker='o')\n",
        "plt.title(\"Training Loss\")\n",
        "plt.xlabel(\"Epoch\")\n",
        "plt.ylabel(\"Loss\")\n",
        "plt.grid(True)\n",
        "plt.show()\n"
      ],
      "metadata": {
        "colab": {
          "base_uri": "https://localhost:8080/",
          "height": 1000
        },
        "id": "Nh_xPsExme_t",
        "outputId": "4859dfa1-5c0e-48ab-8fef-3385ad9f8255"
      },
      "execution_count": 11,
      "outputs": [
        {
          "output_type": "stream",
          "name": "stderr",
          "text": [
            "/usr/local/lib/python3.11/dist-packages/torchvision/models/_utils.py:208: UserWarning: The parameter 'pretrained' is deprecated since 0.13 and may be removed in the future, please use 'weights' instead.\n",
            "  warnings.warn(\n",
            "/usr/local/lib/python3.11/dist-packages/torchvision/models/_utils.py:223: UserWarning: Arguments other than a weight enum or `None` for 'weights' are deprecated since 0.13 and may be removed in the future. The current behavior is equivalent to passing `weights=None`.\n",
            "  warnings.warn(msg)\n"
          ]
        },
        {
          "output_type": "stream",
          "name": "stdout",
          "text": [
            "[Epoch 1/120] Loss: 1.7544\n",
            "[Epoch 2/120] Loss: 1.6456\n",
            "[Epoch 3/120] Loss: 1.6133\n",
            "[Epoch 4/120] Loss: 1.5853\n",
            "[Epoch 5/120] Loss: 1.5723\n",
            "[Epoch 6/120] Loss: 1.5554\n",
            "[Epoch 7/120] Loss: 1.5398\n",
            "[Epoch 8/120] Loss: 1.5259\n",
            "[Epoch 9/120] Loss: 1.5089\n",
            "[Epoch 10/120] Loss: 1.4970\n",
            "[Epoch 11/120] Loss: 1.4818\n",
            "[Epoch 12/120] Loss: 1.4672\n",
            "[Epoch 13/120] Loss: 1.4529\n",
            "[Epoch 14/120] Loss: 1.4402\n",
            "[Epoch 15/120] Loss: 1.4275\n",
            "[Epoch 16/120] Loss: 1.4115\n",
            "[Epoch 17/120] Loss: 1.3995\n",
            "[Epoch 18/120] Loss: 1.3860\n",
            "[Epoch 19/120] Loss: 1.3734\n",
            "[Epoch 20/120] Loss: 1.3628\n",
            "[Epoch 21/120] Loss: 1.3483\n",
            "[Epoch 22/120] Loss: 1.3334\n",
            "[Epoch 23/120] Loss: 1.3223\n",
            "[Epoch 24/120] Loss: 1.3109\n",
            "[Epoch 25/120] Loss: 1.2976\n",
            "[Epoch 26/120] Loss: 1.2888\n",
            "[Epoch 27/120] Loss: 1.2733\n",
            "[Epoch 28/120] Loss: 1.2623\n",
            "[Epoch 29/120] Loss: 1.2494\n",
            "[Epoch 30/120] Loss: 1.2391\n",
            "[Epoch 31/120] Loss: 1.2240\n",
            "[Epoch 32/120] Loss: 1.2129\n",
            "[Epoch 33/120] Loss: 1.2011\n",
            "[Epoch 34/120] Loss: 1.1892\n",
            "[Epoch 35/120] Loss: 1.1789\n",
            "[Epoch 36/120] Loss: 1.1690\n",
            "[Epoch 37/120] Loss: 1.1572\n",
            "[Epoch 38/120] Loss: 1.1455\n",
            "[Epoch 39/120] Loss: 1.1334\n",
            "[Epoch 40/120] Loss: 1.1228\n",
            "[Epoch 41/120] Loss: 1.1128\n",
            "[Epoch 42/120] Loss: 1.1029\n",
            "[Epoch 43/120] Loss: 1.0915\n",
            "[Epoch 44/120] Loss: 1.0792\n",
            "[Epoch 45/120] Loss: 1.0705\n",
            "[Epoch 46/120] Loss: 1.0608\n",
            "[Epoch 47/120] Loss: 1.0481\n",
            "[Epoch 48/120] Loss: 1.0381\n",
            "[Epoch 49/120] Loss: 1.0275\n",
            "[Epoch 50/120] Loss: 1.0175\n",
            "[Epoch 51/120] Loss: 1.0088\n",
            "[Epoch 52/120] Loss: 0.9974\n",
            "[Epoch 53/120] Loss: 0.9898\n",
            "[Epoch 54/120] Loss: 0.9793\n",
            "[Epoch 55/120] Loss: 0.9691\n",
            "[Epoch 56/120] Loss: 0.9596\n",
            "[Epoch 57/120] Loss: 0.9503\n",
            "[Epoch 58/120] Loss: 0.9403\n",
            "[Epoch 59/120] Loss: 0.9303\n",
            "[Epoch 60/120] Loss: 0.9216\n",
            "[Epoch 61/120] Loss: 0.9145\n",
            "[Epoch 62/120] Loss: 0.9038\n",
            "[Epoch 63/120] Loss: 0.8953\n",
            "[Epoch 64/120] Loss: 0.8852\n",
            "[Epoch 65/120] Loss: 0.8784\n",
            "[Epoch 66/120] Loss: 0.8697\n",
            "[Epoch 67/120] Loss: 0.8590\n",
            "[Epoch 68/120] Loss: 0.8506\n",
            "[Epoch 69/120] Loss: 0.8430\n",
            "[Epoch 70/120] Loss: 0.8341\n",
            "[Epoch 71/120] Loss: 0.8248\n",
            "[Epoch 72/120] Loss: 0.8171\n",
            "[Epoch 73/120] Loss: 0.8110\n",
            "[Epoch 74/120] Loss: 0.8005\n",
            "[Epoch 75/120] Loss: 0.7933\n",
            "[Epoch 76/120] Loss: 0.7842\n",
            "[Epoch 77/120] Loss: 0.7776\n",
            "[Epoch 78/120] Loss: 0.7705\n",
            "[Epoch 79/120] Loss: 0.7600\n",
            "[Epoch 80/120] Loss: 0.7521\n",
            "[Epoch 81/120] Loss: 0.7447\n",
            "[Epoch 82/120] Loss: 0.7372\n",
            "[Epoch 83/120] Loss: 0.7300\n",
            "[Epoch 84/120] Loss: 0.7249\n",
            "[Epoch 85/120] Loss: 0.7142\n",
            "[Epoch 86/120] Loss: 0.7073\n",
            "[Epoch 87/120] Loss: 0.7002\n",
            "[Epoch 88/120] Loss: 0.6926\n",
            "[Epoch 89/120] Loss: 0.6860\n",
            "[Epoch 90/120] Loss: 0.6783\n",
            "[Epoch 91/120] Loss: 0.6715\n",
            "[Epoch 92/120] Loss: 0.6642\n",
            "[Epoch 93/120] Loss: 0.6574\n",
            "[Epoch 94/120] Loss: 0.6514\n",
            "[Epoch 95/120] Loss: 0.6427\n",
            "[Epoch 96/120] Loss: 0.6375\n",
            "[Epoch 97/120] Loss: 0.6306\n",
            "[Epoch 98/120] Loss: 0.6243\n",
            "[Epoch 99/120] Loss: 0.6167\n",
            "[Epoch 100/120] Loss: 0.6091\n",
            "[Epoch 101/120] Loss: 0.6038\n",
            "[Epoch 102/120] Loss: 0.5985\n",
            "[Epoch 103/120] Loss: 0.5915\n",
            "[Epoch 104/120] Loss: 0.5851\n",
            "[Epoch 105/120] Loss: 0.5788\n",
            "[Epoch 106/120] Loss: 0.5718\n",
            "[Epoch 107/120] Loss: 0.5643\n",
            "[Epoch 108/120] Loss: 0.5595\n",
            "[Epoch 109/120] Loss: 0.5531\n",
            "[Epoch 110/120] Loss: 0.5477\n",
            "[Epoch 111/120] Loss: 0.5427\n",
            "[Epoch 112/120] Loss: 0.5359\n",
            "[Epoch 113/120] Loss: 0.5296\n",
            "[Epoch 114/120] Loss: 0.5239\n",
            "[Epoch 115/120] Loss: 0.5177\n",
            "[Epoch 116/120] Loss: 0.5124\n",
            "[Epoch 117/120] Loss: 0.5065\n",
            "[Epoch 118/120] Loss: 0.5003\n",
            "[Epoch 119/120] Loss: 0.4964\n",
            "[Epoch 120/120] Loss: 0.4916\n"
          ]
        },
        {
          "output_type": "display_data",
          "data": {
            "text/plain": [
              "<Figure size 640x480 with 1 Axes>"
            ],
            "image/png": "[encoded data removed]"
          },
          "metadata": {}
        }
      ]
    },
    {
      "cell_type": "markdown",
      "source": [
        "### vgg model"
      ],
      "metadata": {
        "id": "4LBUkmpasZAj"
      }
    },
    {
      "cell_type": "code",
      "source": [
        "from torchvision.models import vgg16_bn\n",
        "\n",
        "class StolenVGG(nn.Module):\n",
        "    def __init__(self):\n",
        "        super().__init__()\n",
        "        self.backbone = vgg16_bn(pretrained=False).features\n",
        "        self.pool = nn.AdaptiveAvgPool2d((1, 1))  # spatial -> (N, 512, 1, 1)\n",
        "        self.head = nn.Sequential(\n",
        "            nn.Flatten(),  # -> (N, 512)\n",
        "            nn.Linear(512, 1024),\n",
        "            nn.BatchNorm1d(1024),\n",
        "            nn.ReLU(),\n",
        "            nn.Linear(1024, 1024),\n",
        "            nn.BatchNorm1d(1024)\n",
        "        )\n",
        "\n",
        "    def forward(self, x):\n",
        "        x = self.backbone(x)\n",
        "        x = self.pool(x)\n",
        "        x = self.head(x)\n",
        "        return x\n"
      ],
      "metadata": {
        "id": "4pvUxDspsdNw"
      },
      "execution_count": 10,
      "outputs": []
    },
    {
      "cell_type": "code",
      "source": [
        "def aggregate_loss(o1, o2, yv, alpha=0.9, beta=0.05):\n",
        "    loss_A = F.mse_loss(o1, yv)                          # alignment with victim rep\n",
        "    loss_B = F.mse_loss(o2, o1.detach())                 # consistency across views\n",
        "    cosine_term = 1 - F.cosine_similarity(o1, yv, dim=1).mean()\n",
        "    return alpha * loss_A + (1 - alpha) * loss_B + beta * cosine_term\n"
      ],
      "metadata": {
        "id": "uy4O40Jmsoyf"
      },
      "execution_count": 11,
      "outputs": []
    },
    {
      "cell_type": "code",
      "source": [
        "device = torch.device(\"cuda\" if torch.cuda.is_available() else \"cpu\")\n",
        "model = StolenVGG().to(device)\n",
        "optimizer = torch.optim.AdamW(model.parameters(), lr=1e-3, weight_decay = 0 )\n",
        "dataset = SimCLRDataset(images, reps, simclr_transform)\n",
        "loader = DataLoader(dataset, batch_size=64, shuffle=True)\n",
        "\n",
        "# loader = DataLoader(dataset, batch_size=64, shuffle=True)\n",
        "epochs = 50\n",
        "losses = []\n",
        "\n",
        "for epoch in range(1, epochs + 1):\n",
        "    model.train()\n",
        "    total_loss = 0.0\n",
        "\n",
        "    for t1, t2, yv in loader:\n",
        "        t1, t2, yv = t1.to(device), t2.to(device), yv.to(device)\n",
        "        o1 = model(t1)\n",
        "        o2 = model(t2)\n",
        "        loss = aggregate_loss(o1, o2, yv)\n",
        "\n",
        "        optimizer.zero_grad()\n",
        "        loss.backward()\n",
        "        optimizer.step()\n",
        "        total_loss += loss.item()\n",
        "\n",
        "    avg = total_loss / len(loader)\n",
        "    losses.append(avg)\n",
        "    print(f\"[Epoch {epoch}] Loss: {avg:.4f}\")\n",
        "\n",
        "plt.plot(losses, marker='o')\n",
        "plt.title(\"Training Loss (VGG Surrogate)\")\n",
        "plt.xlabel(\"Epoch\")\n",
        "plt.ylabel(\"Loss\")\n",
        "plt.grid(True)\n",
        "plt.show()\n"
      ],
      "metadata": {
        "colab": {
          "base_uri": "https://localhost:8080/",
          "height": 1000
        },
        "id": "3HUk8SHOsqyq",
        "outputId": "c8912808-d274-47fd-b265-74863d970a3c"
      },
      "execution_count": 13,
      "outputs": [
        {
          "output_type": "stream",
          "name": "stdout",
          "text": [
            "[Epoch 1] Loss: 1.6560\n",
            "[Epoch 2] Loss: 1.5641\n",
            "[Epoch 3] Loss: 1.5157\n",
            "[Epoch 4] Loss: 1.4617\n",
            "[Epoch 5] Loss: 1.4252\n",
            "[Epoch 6] Loss: 1.3769\n",
            "[Epoch 7] Loss: 1.3339\n",
            "[Epoch 8] Loss: 1.2928\n",
            "[Epoch 9] Loss: 1.2544\n",
            "[Epoch 10] Loss: 1.2134\n",
            "[Epoch 11] Loss: 1.1761\n",
            "[Epoch 12] Loss: 1.1380\n",
            "[Epoch 13] Loss: 1.1034\n",
            "[Epoch 14] Loss: 1.0694\n",
            "[Epoch 15] Loss: 1.0337\n",
            "[Epoch 16] Loss: 1.0000\n",
            "[Epoch 17] Loss: 0.9685\n",
            "[Epoch 18] Loss: 0.9382\n",
            "[Epoch 19] Loss: 0.9066\n",
            "[Epoch 20] Loss: 0.8770\n",
            "[Epoch 21] Loss: 0.8473\n",
            "[Epoch 22] Loss: 0.8195\n",
            "[Epoch 23] Loss: 0.7938\n",
            "[Epoch 24] Loss: 0.7675\n",
            "[Epoch 25] Loss: 0.7434\n",
            "[Epoch 26] Loss: 0.7177\n",
            "[Epoch 27] Loss: 0.6941\n",
            "[Epoch 28] Loss: 0.6689\n",
            "[Epoch 29] Loss: 0.6498\n",
            "[Epoch 30] Loss: 0.6253\n",
            "[Epoch 31] Loss: 0.6060\n",
            "[Epoch 32] Loss: 0.5858\n",
            "[Epoch 33] Loss: 0.5644\n",
            "[Epoch 34] Loss: 0.5441\n",
            "[Epoch 35] Loss: 0.5251\n",
            "[Epoch 36] Loss: 0.5069\n",
            "[Epoch 37] Loss: 0.4900\n",
            "[Epoch 38] Loss: 0.4718\n",
            "[Epoch 39] Loss: 0.4553\n",
            "[Epoch 40] Loss: 0.4404\n",
            "[Epoch 41] Loss: 0.4241\n",
            "[Epoch 42] Loss: 0.4101\n",
            "[Epoch 43] Loss: 0.3937\n",
            "[Epoch 44] Loss: 0.3796\n",
            "[Epoch 45] Loss: 0.3659\n",
            "[Epoch 46] Loss: 0.3528\n",
            "[Epoch 47] Loss: 0.3403\n",
            "[Epoch 48] Loss: 0.3293\n",
            "[Epoch 49] Loss: 0.3165\n",
            "[Epoch 50] Loss: 0.3057\n"
          ]
        },
        {
          "output_type": "display_data",
          "data": {
            "text/plain": [
              "<Figure size 640x480 with 1 Axes>"
            ],
            "image/png": "[encoded data removed]"
          },
          "metadata": {}
        }
      ]
    },
    {
      "cell_type": "markdown",
      "source": [
        "### cosine norm loss"
      ],
      "metadata": {
        "id": "oe1YEjqbp3pG"
      }
    },
    {
      "cell_type": "code",
      "source": [
        "def cosine_loss(x1, x2):\n",
        "    x1 = F.normalize(x1, dim=1)\n",
        "    x2 = F.normalize(x2, dim=1)\n",
        "    return 1 - (x1 * x2).sum(dim=1).mean()\n",
        "\n",
        "\n",
        "\n",
        "device = torch.device(\"cuda\" if torch.cuda.is_available() else \"cpu\")\n",
        "model = StolenEncoder().to(device)\n",
        "optimizer = torch.optim.Adam(model.parameters(), lr=1e-4)\n",
        "loader = DataLoader(SimCLRDataset(images, reps, simclr_transform), batch_size=64, shuffle=True)\n",
        "\n",
        "alpha = 0.9  # weight between victim alignment and self-consistency\n",
        "num_epochs = 35\n",
        "loss_history = []\n",
        "\n",
        "for epoch in range(1, num_epochs+1):\n",
        "    model.train()\n",
        "    total = 0\n",
        "    for t1, t2, yv in loader:\n",
        "        t1, t2, yv = t1.to(device), t2.to(device), yv.to(device)\n",
        "\n",
        "        optimizer.zero_grad()\n",
        "        o1 = model(t1)         # (B,1024)\n",
        "        o2 = model(t2)         # (B,1024)\n",
        "        loss_A = cosine_loss(o1, yv)\n",
        "        loss_B = cosine_loss(o2, o1.detach())\n",
        "        loss = alpha * loss_A + (1 - alpha) * loss_B        # cosine similarity loss\n",
        "        loss.backward()\n",
        "        optimizer.step()\n",
        "        total += loss.item()\n",
        "\n",
        "    avg = total / len(loader)\n",
        "    loss_history.append(avg)\n",
        "    print(f\"[Epoch {epoch}] Loss: {avg:.4f}\")\n",
        "\n",
        "# Plot training loss\n",
        "plt.plot(loss_history, marker='o')\n",
        "plt.title(\"SimCLR-style Stealing Loss\")\n",
        "plt.xlabel(\"Epoch\")\n",
        "plt.ylabel(\"Loss\")\n",
        "plt.grid(True)\n",
        "plt.show()\n"
      ],
      "metadata": {
        "colab": {
          "base_uri": "https://localhost:8080/",
          "height": 1000
        },
        "id": "uadXsw19kvGB",
        "outputId": "0827b06a-a8b8-4133-fd6c-ddc16e264039"
      },
      "execution_count": null,
      "outputs": [
        {
          "output_type": "stream",
          "name": "stderr",
          "text": [
            "/usr/local/lib/python3.11/dist-packages/torchvision/models/_utils.py:208: UserWarning: The parameter 'pretrained' is deprecated since 0.13 and may be removed in the future, please use 'weights' instead.\n",
            "  warnings.warn(\n",
            "/usr/local/lib/python3.11/dist-packages/torchvision/models/_utils.py:223: UserWarning: Arguments other than a weight enum or `None` for 'weights' are deprecated since 0.13 and may be removed in the future. The current behavior is equivalent to passing `weights=None`.\n",
            "  warnings.warn(msg)\n"
          ]
        },
        {
          "output_type": "stream",
          "name": "stdout",
          "text": [
            "[Epoch 1] Loss: 0.5474\n",
            "[Epoch 2] Loss: 0.1474\n",
            "[Epoch 3] Loss: 0.0379\n",
            "[Epoch 4] Loss: 0.0126\n",
            "[Epoch 5] Loss: 0.0065\n",
            "[Epoch 6] Loss: 0.0045\n",
            "[Epoch 7] Loss: 0.0038\n",
            "[Epoch 8] Loss: 0.0032\n",
            "[Epoch 9] Loss: 0.0028\n",
            "[Epoch 10] Loss: 0.0026\n",
            "[Epoch 11] Loss: 0.0023\n",
            "[Epoch 12] Loss: 0.0021\n",
            "[Epoch 13] Loss: 0.0020\n",
            "[Epoch 14] Loss: 0.0019\n",
            "[Epoch 15] Loss: 0.0018\n",
            "[Epoch 16] Loss: 0.0017\n",
            "[Epoch 17] Loss: 0.0017\n",
            "[Epoch 18] Loss: 0.0017\n",
            "[Epoch 19] Loss: 0.0016\n",
            "[Epoch 20] Loss: 0.0015\n",
            "[Epoch 21] Loss: 0.0015\n",
            "[Epoch 22] Loss: 0.0015\n",
            "[Epoch 23] Loss: 0.0014\n",
            "[Epoch 24] Loss: 0.0014\n",
            "[Epoch 25] Loss: 0.0014\n",
            "[Epoch 26] Loss: 0.0014\n",
            "[Epoch 27] Loss: 0.0014\n",
            "[Epoch 28] Loss: 0.0014\n",
            "[Epoch 29] Loss: 0.0015\n",
            "[Epoch 30] Loss: 0.0014\n",
            "[Epoch 31] Loss: 0.0014\n",
            "[Epoch 32] Loss: 0.0013\n",
            "[Epoch 33] Loss: 0.0014\n",
            "[Epoch 34] Loss: 0.0014\n",
            "[Epoch 35] Loss: 0.0013\n"
          ]
        },
        {
          "output_type": "display_data",
          "data": {
            "text/plain": [
              "<Figure size 640x480 with 1 Axes>"
            ],
            "image/png": "[encoded data removed]"
          },
          "metadata": {}
        }
      ]
    },
    {
      "cell_type": "code",
      "source": [
        "! pip install -q onnx"
      ],
      "metadata": {
        "colab": {
          "base_uri": "https://localhost:8080/"
        },
        "id": "aI7RAiPKq5Uq",
        "outputId": "50a1ec8b-e35d-4f24-e6d9-228ccd3afc2c"
      },
      "execution_count": 13,
      "outputs": [
        {
          "output_type": "stream",
          "name": "stdout",
          "text": [
            "\u001b[2K   \u001b[90m━━━━━━━━━━━━━━━━━━━━━━━━━━━━━━━━━━━━━━━━\u001b[0m \u001b[32m17.6/17.6 MB\u001b[0m \u001b[31m90.6 MB/s\u001b[0m eta \u001b[36m0:00:00\u001b[0m\n",
            "\u001b[?25h"
          ]
        }
      ]
    },
    {
      "cell_type": "markdown",
      "source": [
        "### Momentum‑Teacher Distillation (DINO‐Style)\n"
      ],
      "metadata": {
        "id": "bb86aAJ8pIkZ"
      }
    },
    {
      "cell_type": "code",
      "source": [
        "import copy\n",
        "\n",
        "device = torch.device(\"cuda\" if torch.cuda.is_available() else \"cpu\")\n",
        "\n",
        "# Student model (ResNet18 + MLP head as before)\n",
        "student = StolenEncoder().to(device)\n",
        "\n",
        "# Teacher is an EMA copy of student; parameters frozen\n",
        "teacher = copy.deepcopy(student)\n",
        "for p in teacher.parameters():\n",
        "    p.requires_grad_(False)\n",
        "\n",
        "# Optimizer & scheduler\n",
        "optimizer = torch.optim.AdamW(student.parameters(), lr=1e-4, weight_decay=1e-6)\n",
        "scheduler = torch.optim.lr_scheduler.CosineAnnealingWarmRestarts(optimizer, T_0=50, T_mult=2)\n",
        "\n",
        "print(\"✅ Student & Teacher ready on\", device)\n"
      ],
      "metadata": {
        "colab": {
          "base_uri": "https://localhost:8080/"
        },
        "id": "wAFfhsgDpR3o",
        "outputId": "499d3d2f-aa92-4b92-8e75-7ca4a202f62b"
      },
      "execution_count": 10,
      "outputs": [
        {
          "output_type": "stream",
          "name": "stderr",
          "text": [
            "/usr/local/lib/python3.11/dist-packages/torchvision/models/_utils.py:208: UserWarning: The parameter 'pretrained' is deprecated since 0.13 and may be removed in the future, please use 'weights' instead.\n",
            "  warnings.warn(\n",
            "/usr/local/lib/python3.11/dist-packages/torchvision/models/_utils.py:223: UserWarning: Arguments other than a weight enum or `None` for 'weights' are deprecated since 0.13 and may be removed in the future. The current behavior is equivalent to passing `weights=None`.\n",
            "  warnings.warn(msg)\n"
          ]
        },
        {
          "output_type": "stream",
          "name": "stdout",
          "text": [
            "✅ Student & Teacher ready on cuda\n"
          ]
        }
      ]
    },
    {
      "cell_type": "code",
      "source": [
        "from torch.nn import MSELoss\n",
        "\n",
        "m = 0.995               # EMA momentum\n",
        "alpha = 0.9             # keep your previous best weight\n",
        "num_epochs = 100        # you can bump up to 200–300\n",
        "batch_size = 32\n",
        "\n",
        "loader = DataLoader(SimCLRDataset(images, reps, simclr_transform),\n",
        "                    batch_size=batch_size, shuffle=True, num_workers=2)\n",
        "\n",
        "loss_fn = MSELoss()\n",
        "history = []\n",
        "\n",
        "for epoch in range(1, num_epochs+1):\n",
        "    student.train()\n",
        "    total_loss = 0.0\n",
        "\n",
        "    for t1, t2, yv in loader:\n",
        "        t1, t2, yv = t1.to(device), t2.to(device), yv.to(device)\n",
        "\n",
        "        # Student forward\n",
        "        o1 = student(t1)\n",
        "        o2 = student(t2)\n",
        "\n",
        "        # Teacher forward (no grad)\n",
        "        with torch.no_grad():\n",
        "            t_rep = teacher(t1)\n",
        "\n",
        "        # Loss: student→teacher + student self‑consistency\n",
        "        loss_A = loss_fn(o1, t_rep)\n",
        "        loss_B = loss_fn(o2, o1.detach())\n",
        "        loss = alpha * loss_A + (1 - alpha) * loss_B\n",
        "\n",
        "        optimizer.zero_grad()\n",
        "        loss.backward()\n",
        "        torch.nn.utils.clip_grad_norm_(student.parameters(), max_norm=1.0)\n",
        "        optimizer.step()\n",
        "        scheduler.step(epoch + total_loss)\n",
        "\n",
        "        total_loss += loss.item()\n",
        "\n",
        "        # EMA update for teacher\n",
        "        with torch.no_grad():\n",
        "            for st_p, te_p in zip(student.parameters(), teacher.parameters()):\n",
        "                te_p.data.mul_(m).add_(st_p.data, alpha=1 - m)\n",
        "\n",
        "    avg = total_loss / len(loader)\n",
        "    history.append(avg)\n",
        "    print(f\"[Epoch {epoch}/{num_epochs}] Loss: {avg:.6f}\")\n",
        "\n",
        "# Plot convergence\n",
        "plt.plot(history, marker=\"o\")\n",
        "plt.title(\"Student‑Teacher SimCLR Loss\")\n",
        "plt.xlabel(\"Epoch\")\n",
        "plt.ylabel(\"Loss\")\n",
        "plt.grid(True)\n",
        "plt.show()\n"
      ],
      "metadata": {
        "colab": {
          "base_uri": "https://localhost:8080/",
          "height": 1000
        },
        "id": "lWnGAYY-pUdJ",
        "outputId": "86eea661-300f-48bf-bef3-6983387eb0dd"
      },
      "execution_count": 11,
      "outputs": [
        {
          "output_type": "stream",
          "name": "stdout",
          "text": [
            "[Epoch 1/100] Loss: 0.014408\n",
            "[Epoch 2/100] Loss: 0.013624\n",
            "[Epoch 3/100] Loss: 0.012345\n",
            "[Epoch 4/100] Loss: 0.011638\n",
            "[Epoch 5/100] Loss: 0.010941\n",
            "[Epoch 6/100] Loss: 0.010018\n",
            "[Epoch 7/100] Loss: 0.009567\n",
            "[Epoch 8/100] Loss: 0.008862\n",
            "[Epoch 9/100] Loss: 0.008388\n",
            "[Epoch 10/100] Loss: 0.007936\n",
            "[Epoch 11/100] Loss: 0.007488\n",
            "[Epoch 12/100] Loss: 0.006927\n",
            "[Epoch 13/100] Loss: 0.006286\n",
            "[Epoch 14/100] Loss: 0.005966\n",
            "[Epoch 15/100] Loss: 0.005771\n",
            "[Epoch 16/100] Loss: 0.005418\n",
            "[Epoch 17/100] Loss: 0.005116\n",
            "[Epoch 18/100] Loss: 0.004891\n",
            "[Epoch 19/100] Loss: 0.004674\n",
            "[Epoch 20/100] Loss: 0.004537\n",
            "[Epoch 21/100] Loss: 0.004404\n",
            "[Epoch 22/100] Loss: 0.004170\n",
            "[Epoch 23/100] Loss: 0.003988\n",
            "[Epoch 24/100] Loss: 0.003898\n",
            "[Epoch 25/100] Loss: 0.003807\n",
            "[Epoch 26/100] Loss: 0.003621\n",
            "[Epoch 27/100] Loss: 0.003627\n",
            "[Epoch 28/100] Loss: 0.003538\n",
            "[Epoch 29/100] Loss: 0.003408\n",
            "[Epoch 30/100] Loss: 0.003320\n",
            "[Epoch 31/100] Loss: 0.003203\n",
            "[Epoch 32/100] Loss: 0.003247\n",
            "[Epoch 33/100] Loss: 0.003111\n",
            "[Epoch 34/100] Loss: 0.003111\n",
            "[Epoch 35/100] Loss: 0.003047\n",
            "[Epoch 36/100] Loss: 0.003019\n",
            "[Epoch 37/100] Loss: 0.002913\n",
            "[Epoch 38/100] Loss: 0.002816\n",
            "[Epoch 39/100] Loss: 0.002914\n",
            "[Epoch 40/100] Loss: 0.002830\n",
            "[Epoch 41/100] Loss: 0.002796\n",
            "[Epoch 42/100] Loss: 0.002717\n",
            "[Epoch 43/100] Loss: 0.002678\n",
            "[Epoch 44/100] Loss: 0.002643\n",
            "[Epoch 45/100] Loss: 0.002666\n",
            "[Epoch 46/100] Loss: 0.002711\n",
            "[Epoch 47/100] Loss: 0.002652\n",
            "[Epoch 48/100] Loss: 0.002587\n",
            "[Epoch 49/100] Loss: 0.002677\n",
            "[Epoch 50/100] Loss: 0.002853\n",
            "[Epoch 51/100] Loss: 0.003359\n",
            "[Epoch 52/100] Loss: 0.003827\n",
            "[Epoch 53/100] Loss: 0.003977\n",
            "[Epoch 54/100] Loss: 0.004034\n",
            "[Epoch 55/100] Loss: 0.003919\n",
            "[Epoch 56/100] Loss: 0.003690\n",
            "[Epoch 57/100] Loss: 0.003459\n",
            "[Epoch 58/100] Loss: 0.003082\n",
            "[Epoch 59/100] Loss: 0.002868\n",
            "[Epoch 60/100] Loss: 0.002633\n",
            "[Epoch 61/100] Loss: 0.002474\n",
            "[Epoch 62/100] Loss: 0.002290\n",
            "[Epoch 63/100] Loss: 0.002193\n",
            "[Epoch 64/100] Loss: 0.002017\n",
            "[Epoch 65/100] Loss: 0.001980\n",
            "[Epoch 66/100] Loss: 0.001904\n",
            "[Epoch 67/100] Loss: 0.001836\n",
            "[Epoch 68/100] Loss: 0.001774\n",
            "[Epoch 69/100] Loss: 0.001691\n",
            "[Epoch 70/100] Loss: 0.001687\n",
            "[Epoch 71/100] Loss: 0.001602\n",
            "[Epoch 72/100] Loss: 0.001544\n",
            "[Epoch 73/100] Loss: 0.001519\n",
            "[Epoch 74/100] Loss: 0.001417\n",
            "[Epoch 75/100] Loss: 0.001398\n",
            "[Epoch 76/100] Loss: 0.001359\n",
            "[Epoch 77/100] Loss: 0.001336\n",
            "[Epoch 78/100] Loss: 0.001303\n",
            "[Epoch 79/100] Loss: 0.001265\n",
            "[Epoch 80/100] Loss: 0.001226\n",
            "[Epoch 81/100] Loss: 0.001214\n",
            "[Epoch 82/100] Loss: 0.001161\n",
            "[Epoch 83/100] Loss: 0.001168\n",
            "[Epoch 84/100] Loss: 0.001116\n",
            "[Epoch 85/100] Loss: 0.001091\n",
            "[Epoch 86/100] Loss: 0.001062\n",
            "[Epoch 87/100] Loss: 0.001021\n",
            "[Epoch 88/100] Loss: 0.000988\n",
            "[Epoch 89/100] Loss: 0.000973\n",
            "[Epoch 90/100] Loss: 0.000983\n",
            "[Epoch 91/100] Loss: 0.000942\n",
            "[Epoch 92/100] Loss: 0.000909\n",
            "[Epoch 93/100] Loss: 0.000917\n",
            "[Epoch 94/100] Loss: 0.000902\n",
            "[Epoch 95/100] Loss: 0.000890\n",
            "[Epoch 96/100] Loss: 0.000855\n",
            "[Epoch 97/100] Loss: 0.000841\n",
            "[Epoch 98/100] Loss: 0.000814\n",
            "[Epoch 99/100] Loss: 0.000802\n",
            "[Epoch 100/100] Loss: 0.000819\n"
          ]
        },
        {
          "output_type": "display_data",
          "data": {
            "text/plain": [
              "<Figure size 640x480 with 1 Axes>"
            ],
            "image/png": "[encoded data removed]"
          },
          "metadata": {}
        }
      ]
    },
    {
      "cell_type": "code",
      "source": [
        "import torch.onnx\n",
        "\n",
        "ONNX_OUT = \"/content/models/model_Sim_CLR_DINO.onnx\"\n",
        "student.eval()\n",
        "\n",
        "dummy = torch.randn(1, 3, 32, 32).to(device)\n",
        "torch.onnx.export(\n",
        "    student,\n",
        "    dummy,\n",
        "    ONNX_OUT,\n",
        "    input_names=[\"x\"],\n",
        "    output_names=[\"embedding\"],\n",
        "    export_params=True,\n",
        "    opset_version=11,\n",
        "    do_constant_folding=True,\n",
        ")\n",
        "\n",
        "print(f\"✅ Exported student ONNX model to: {ONNX_OUT}\")\n"
      ],
      "metadata": {
        "colab": {
          "base_uri": "https://localhost:8080/"
        },
        "id": "eVET5nSXq-t7",
        "outputId": "a571b7f6-f341-433b-ff8e-42fdd9489138"
      },
      "execution_count": 14,
      "outputs": [
        {
          "output_type": "stream",
          "name": "stdout",
          "text": [
            "✅ Exported student ONNX model to: /content/models/model_Sim_CLR_DINO.onnx\n"
          ]
        }
      ]
    },
    {
      "cell_type": "markdown",
      "source": [
        "### DINO_150 epochs"
      ],
      "metadata": {
        "id": "TbL1vSwCsdMx"
      }
    },
    {
      "cell_type": "code",
      "source": [
        "import copy\n",
        "\n",
        "device = torch.device(\"cuda\" if torch.cuda.is_available() else \"cpu\")\n",
        "\n",
        "# Student model (ResNet18 + MLP head as before)\n",
        "student = StolenEncoder().to(device)\n",
        "\n",
        "# Teacher is an EMA copy of student; parameters frozen\n",
        "teacher = copy.deepcopy(student)\n",
        "for p in teacher.parameters():\n",
        "    p.requires_grad_(False)\n",
        "\n",
        "# Optimizer & scheduler\n",
        "optimizer = torch.optim.AdamW(student.parameters(), lr=1e-4, weight_decay=1e-6)\n",
        "scheduler = torch.optim.lr_scheduler.CosineAnnealingWarmRestarts(optimizer, T_0=50, T_mult=2)\n",
        "\n",
        "print(\"✅ Student & Teacher ready on\", device)\n"
      ],
      "metadata": {
        "colab": {
          "base_uri": "https://localhost:8080/"
        },
        "id": "K1EYjN5MsjyX",
        "outputId": "220edd97-4977-4595-97ee-d45deaf82a7d"
      },
      "execution_count": 11,
      "outputs": [
        {
          "output_type": "stream",
          "name": "stderr",
          "text": [
            "/usr/local/lib/python3.11/dist-packages/torchvision/models/_utils.py:208: UserWarning: The parameter 'pretrained' is deprecated since 0.13 and may be removed in the future, please use 'weights' instead.\n",
            "  warnings.warn(\n",
            "/usr/local/lib/python3.11/dist-packages/torchvision/models/_utils.py:223: UserWarning: Arguments other than a weight enum or `None` for 'weights' are deprecated since 0.13 and may be removed in the future. The current behavior is equivalent to passing `weights=None`.\n",
            "  warnings.warn(msg)\n"
          ]
        },
        {
          "output_type": "stream",
          "name": "stdout",
          "text": [
            "✅ Student & Teacher ready on cuda\n"
          ]
        }
      ]
    },
    {
      "cell_type": "code",
      "source": [
        "import torch\n",
        "import torch.nn.functional as F\n",
        "from torch.utils.data import DataLoader\n",
        "import matplotlib.pyplot as plt\n",
        "\n",
        "# === Hyperparameters ===\n",
        "initial_lr   = 1e-4\n",
        "finetune_lr  = 1e-5\n",
        "weight_decay = 1e-6\n",
        "batch_size   = 32\n",
        "num_epochs1  = 100   # initial phase\n",
        "num_epochs2  = 50    # fine‑tuning phase\n",
        "alpha        = 0.9\n",
        "ema_momentum = 0.995\n",
        "\n",
        "loader = DataLoader(\n",
        "    SimCLRDataset(images, reps, simclr_transform),\n",
        "    batch_size=batch_size,\n",
        "    shuffle=True,\n",
        "    num_workers=2\n",
        ")\n",
        "\n",
        "# === Training Loop Phase 1 (0 → 100) ===\n",
        "loss_history = []\n",
        "for epoch in range(1, num_epochs1 + 1):\n",
        "    student.train()\n",
        "    total_loss = 0.0\n",
        "\n",
        "    for t1, t2, yv in loader:\n",
        "        t1, t2, yv = t1.to(device), t2.to(device), yv.to(device)\n",
        "\n",
        "        # Forward\n",
        "        o1 = student(t1)\n",
        "        o2 = student(t2)\n",
        "        with torch.no_grad():\n",
        "            t_rep = teacher(t1)\n",
        "\n",
        "        # Loss\n",
        "        loss_A = F.mse_loss(o1, t_rep)\n",
        "        loss_B = F.mse_loss(o2, o1.detach())\n",
        "        loss   = alpha * loss_A + (1 - alpha) * loss_B\n",
        "\n",
        "        # Backprop + EMA\n",
        "        optimizer.zero_grad()\n",
        "        loss.backward()\n",
        "        torch.nn.utils.clip_grad_norm_(student.parameters(), max_norm=1.0)\n",
        "        optimizer.step()\n",
        "        scheduler.step(epoch + total_loss)\n",
        "\n",
        "        with torch.no_grad():\n",
        "            for sp, tp in zip(student.parameters(), teacher.parameters()):\n",
        "                tp.data.mul_(ema_momentum).add_(sp.data, alpha=1 - ema_momentum)\n",
        "\n",
        "        total_loss += loss.item()\n",
        "\n",
        "    avg = total_loss / len(loader)\n",
        "    loss_history.append(avg)\n",
        "    print(f\"[Epoch {epoch}/{num_epochs1}] Loss: {avg:.6f}\")\n",
        "\n",
        "# === Adjust LR & EMA for Fine‑Tuning ===\n",
        "print(\"\\n🎯 Starting fine‑tuning phase:\")\n",
        "for pg in optimizer.param_groups:\n",
        "    pg['lr'] = finetune_lr\n",
        "ema_momentum = 0.99\n",
        "\n",
        "# (Optional) reduce batch size\n",
        "loader = DataLoader(\n",
        "    SimCLRDataset(images, reps, simclr_transform),\n",
        "    batch_size=16,\n",
        "    shuffle=True,\n",
        "    num_workers=2\n",
        ")\n",
        "\n",
        "# === Training Loop Phase 2 (101 → 150) ===\n",
        "for epoch in range(num_epochs1 + 1, num_epochs1 + num_epochs2 + 1):\n",
        "    student.train()\n",
        "    total_loss = 0.0\n",
        "\n",
        "    for t1, t2, yv in loader:\n",
        "        t1, t2, yv = t1.to(device), t2.to(device), yv.to(device)\n",
        "\n",
        "        o1 = student(t1)\n",
        "        o2 = student(t2)\n",
        "        with torch.no_grad():\n",
        "            t_rep = teacher(t1)\n",
        "\n",
        "        loss_A = F.mse_loss(o1, t_rep)\n",
        "        loss_B = F.mse_loss(o2, o1.detach())\n",
        "        loss   = alpha * loss_A + (1 - alpha) * loss_B\n",
        "\n",
        "        optimizer.zero_grad()\n",
        "        loss.backward()\n",
        "        torch.nn.utils.clip_grad_norm_(student.parameters(), max_norm=1.0)\n",
        "        optimizer.step()\n",
        "        scheduler.step(epoch + total_loss)\n",
        "\n",
        "        with torch.no_grad():\n",
        "            for sp, tp in zip(student.parameters(), teacher.parameters()):\n",
        "                tp.data.mul_(ema_momentum).add_(sp.data, alpha=1 - ema_momentum)\n",
        "\n",
        "        total_loss += loss.item()\n",
        "\n",
        "    avg = total_loss / len(loader)\n",
        "    loss_history.append(avg)\n",
        "    print(f\"[Epoch {epoch}/{num_epochs1 + num_epochs2}] Loss: {avg:.6f}\")\n",
        "\n",
        "# === Plot the full training curve ===\n",
        "plt.figure(figsize=(8,4))\n",
        "plt.plot(loss_history, marker='o')\n",
        "plt.axvline(num_epochs1, color='gray', linestyle='--', label='fine-tune start')\n",
        "plt.title(\"Student–Teacher SimCLR Loss (with Fine‑Tuning)\")\n",
        "plt.xlabel(\"Epoch\")\n",
        "plt.ylabel(\"Loss\")\n",
        "plt.legend()\n",
        "plt.grid(True)\n",
        "plt.show()"
      ],
      "metadata": {
        "colab": {
          "base_uri": "https://localhost:8080/",
          "height": 1000
        },
        "id": "AOMdhOlZsoQ-",
        "outputId": "30de4140-7f8f-4f54-b066-c4986544bfe2"
      },
      "execution_count": 13,
      "outputs": [
        {
          "output_type": "stream",
          "name": "stdout",
          "text": [
            "[Epoch 1/100] Loss: 0.014992\n",
            "[Epoch 2/100] Loss: 0.013775\n",
            "[Epoch 3/100] Loss: 0.012906\n",
            "[Epoch 4/100] Loss: 0.011557\n",
            "[Epoch 5/100] Loss: 0.010830\n",
            "[Epoch 6/100] Loss: 0.010070\n",
            "[Epoch 7/100] Loss: 0.009338\n",
            "[Epoch 8/100] Loss: 0.009050\n",
            "[Epoch 9/100] Loss: 0.008041\n",
            "[Epoch 10/100] Loss: 0.007642\n",
            "[Epoch 11/100] Loss: 0.007156\n",
            "[Epoch 12/100] Loss: 0.006856\n",
            "[Epoch 13/100] Loss: 0.006549\n",
            "[Epoch 14/100] Loss: 0.006263\n",
            "[Epoch 15/100] Loss: 0.005957\n",
            "[Epoch 16/100] Loss: 0.005786\n",
            "[Epoch 17/100] Loss: 0.005505\n",
            "[Epoch 18/100] Loss: 0.005128\n",
            "[Epoch 19/100] Loss: 0.004868\n",
            "[Epoch 20/100] Loss: 0.004646\n",
            "[Epoch 21/100] Loss: 0.004440\n",
            "[Epoch 22/100] Loss: 0.004245\n",
            "[Epoch 23/100] Loss: 0.004076\n",
            "[Epoch 24/100] Loss: 0.003889\n",
            "[Epoch 25/100] Loss: 0.003805\n",
            "[Epoch 26/100] Loss: 0.003696\n",
            "[Epoch 27/100] Loss: 0.003678\n",
            "[Epoch 28/100] Loss: 0.003592\n",
            "[Epoch 29/100] Loss: 0.003422\n",
            "[Epoch 30/100] Loss: 0.003343\n",
            "[Epoch 31/100] Loss: 0.003308\n",
            "[Epoch 32/100] Loss: 0.003229\n",
            "[Epoch 33/100] Loss: 0.003213\n",
            "[Epoch 34/100] Loss: 0.003136\n",
            "[Epoch 35/100] Loss: 0.003091\n",
            "[Epoch 36/100] Loss: 0.002961\n",
            "[Epoch 37/100] Loss: 0.002932\n",
            "[Epoch 38/100] Loss: 0.002937\n",
            "[Epoch 39/100] Loss: 0.002893\n",
            "[Epoch 40/100] Loss: 0.002836\n",
            "[Epoch 41/100] Loss: 0.002826\n",
            "[Epoch 42/100] Loss: 0.002831\n",
            "[Epoch 43/100] Loss: 0.002786\n",
            "[Epoch 44/100] Loss: 0.002744\n",
            "[Epoch 45/100] Loss: 0.002748\n",
            "[Epoch 46/100] Loss: 0.002730\n",
            "[Epoch 47/100] Loss: 0.002670\n",
            "[Epoch 48/100] Loss: 0.002678\n",
            "[Epoch 49/100] Loss: 0.002700\n",
            "[Epoch 50/100] Loss: 0.002786\n",
            "[Epoch 51/100] Loss: 0.003555\n",
            "[Epoch 52/100] Loss: 0.004153\n",
            "[Epoch 53/100] Loss: 0.004297\n",
            "[Epoch 54/100] Loss: 0.004235\n",
            "[Epoch 55/100] Loss: 0.003949\n",
            "[Epoch 56/100] Loss: 0.003659\n",
            "[Epoch 57/100] Loss: 0.003316\n",
            "[Epoch 58/100] Loss: 0.003089\n",
            "[Epoch 59/100] Loss: 0.002806\n",
            "[Epoch 60/100] Loss: 0.002676\n",
            "[Epoch 61/100] Loss: 0.002628\n",
            "[Epoch 62/100] Loss: 0.002441\n",
            "[Epoch 63/100] Loss: 0.002253\n",
            "[Epoch 64/100] Loss: 0.002050\n",
            "[Epoch 65/100] Loss: 0.001958\n",
            "[Epoch 66/100] Loss: 0.001907\n",
            "[Epoch 67/100] Loss: 0.001838\n",
            "[Epoch 68/100] Loss: 0.001746\n",
            "[Epoch 69/100] Loss: 0.001709\n",
            "[Epoch 70/100] Loss: 0.001659\n",
            "[Epoch 71/100] Loss: 0.001593\n",
            "[Epoch 72/100] Loss: 0.001532\n",
            "[Epoch 73/100] Loss: 0.001487\n",
            "[Epoch 74/100] Loss: 0.001432\n",
            "[Epoch 75/100] Loss: 0.001397\n",
            "[Epoch 76/100] Loss: 0.001338\n",
            "[Epoch 77/100] Loss: 0.001330\n",
            "[Epoch 78/100] Loss: 0.001279\n",
            "[Epoch 79/100] Loss: 0.001272\n",
            "[Epoch 80/100] Loss: 0.001248\n",
            "[Epoch 81/100] Loss: 0.001217\n",
            "[Epoch 82/100] Loss: 0.001178\n",
            "[Epoch 83/100] Loss: 0.001142\n",
            "[Epoch 84/100] Loss: 0.001151\n",
            "[Epoch 85/100] Loss: 0.001115\n",
            "[Epoch 86/100] Loss: 0.001078\n",
            "[Epoch 87/100] Loss: 0.001056\n",
            "[Epoch 88/100] Loss: 0.001016\n",
            "[Epoch 89/100] Loss: 0.000993\n",
            "[Epoch 90/100] Loss: 0.000989\n",
            "[Epoch 91/100] Loss: 0.000975\n",
            "[Epoch 92/100] Loss: 0.000950\n",
            "[Epoch 93/100] Loss: 0.000930\n",
            "[Epoch 94/100] Loss: 0.000907\n",
            "[Epoch 95/100] Loss: 0.000902\n",
            "[Epoch 96/100] Loss: 0.000876\n",
            "[Epoch 97/100] Loss: 0.000888\n",
            "[Epoch 98/100] Loss: 0.000840\n",
            "[Epoch 99/100] Loss: 0.000820\n",
            "[Epoch 100/100] Loss: 0.000827\n",
            "\n",
            "🎯 Starting fine‑tuning phase:\n",
            "[Epoch 101/150] Loss: 0.000828\n",
            "[Epoch 102/150] Loss: 0.000787\n",
            "[Epoch 103/150] Loss: 0.000761\n",
            "[Epoch 104/150] Loss: 0.000693\n",
            "[Epoch 105/150] Loss: 0.000671\n",
            "[Epoch 106/150] Loss: 0.000633\n",
            "[Epoch 107/150] Loss: 0.000607\n",
            "[Epoch 108/150] Loss: 0.000585\n",
            "[Epoch 109/150] Loss: 0.000544\n",
            "[Epoch 110/150] Loss: 0.000514\n",
            "[Epoch 111/150] Loss: 0.000528\n",
            "[Epoch 112/150] Loss: 0.000470\n",
            "[Epoch 113/150] Loss: 0.000442\n",
            "[Epoch 114/150] Loss: 0.000435\n",
            "[Epoch 115/150] Loss: 0.000407\n",
            "[Epoch 116/150] Loss: 0.000396\n",
            "[Epoch 117/150] Loss: 0.000384\n",
            "[Epoch 118/150] Loss: 0.000357\n",
            "[Epoch 119/150] Loss: 0.000353\n",
            "[Epoch 120/150] Loss: 0.000337\n",
            "[Epoch 121/150] Loss: 0.000326\n",
            "[Epoch 122/150] Loss: 0.000317\n",
            "[Epoch 123/150] Loss: 0.000300\n",
            "[Epoch 124/150] Loss: 0.000295\n",
            "[Epoch 125/150] Loss: 0.000284\n",
            "[Epoch 126/150] Loss: 0.000275\n",
            "[Epoch 127/150] Loss: 0.000280\n",
            "[Epoch 128/150] Loss: 0.000260\n",
            "[Epoch 129/150] Loss: 0.000255\n",
            "[Epoch 130/150] Loss: 0.000251\n",
            "[Epoch 131/150] Loss: 0.000245\n",
            "[Epoch 132/150] Loss: 0.000235\n",
            "[Epoch 133/150] Loss: 0.000233\n",
            "[Epoch 134/150] Loss: 0.000227\n",
            "[Epoch 135/150] Loss: 0.000219\n",
            "[Epoch 136/150] Loss: 0.000224\n",
            "[Epoch 137/150] Loss: 0.000206\n",
            "[Epoch 138/150] Loss: 0.000207\n",
            "[Epoch 139/150] Loss: 0.000202\n",
            "[Epoch 140/150] Loss: 0.000199\n",
            "[Epoch 141/150] Loss: 0.000194\n",
            "[Epoch 142/150] Loss: 0.000192\n",
            "[Epoch 143/150] Loss: 0.000201\n",
            "[Epoch 144/150] Loss: 0.000194\n",
            "[Epoch 145/150] Loss: 0.000191\n",
            "[Epoch 146/150] Loss: 0.000189\n",
            "[Epoch 147/150] Loss: 0.000187\n",
            "[Epoch 148/150] Loss: 0.000184\n",
            "[Epoch 149/150] Loss: 0.000191\n",
            "[Epoch 150/150] Loss: 0.000370\n"
          ]
        },
        {
          "output_type": "display_data",
          "data": {
            "text/plain": [
              "<Figure size 800x400 with 1 Axes>"
            ],
            "image/png": "[encoded data removed]"
          },
          "metadata": {}
        }
      ]
    },
    {
      "cell_type": "code",
      "source": [
        "import torch.onnx\n",
        "\n",
        "ONNX_OUT = \"/content/models/model_Sim_CLR_DINO_150_optim.onnx\"\n",
        "student.eval()\n",
        "\n",
        "dummy = torch.randn(1, 3, 32, 32).to(device)\n",
        "torch.onnx.export(\n",
        "    student,\n",
        "    dummy,\n",
        "    ONNX_OUT,\n",
        "    input_names=[\"x\"],\n",
        "    output_names=[\"embedding\"],\n",
        "    export_params=True,\n",
        "    opset_version=11,\n",
        "    do_constant_folding=True,\n",
        ")\n",
        "\n",
        "print(f\"✅ Exported student ONNX model to: {ONNX_OUT}\")\n"
      ],
      "metadata": {
        "colab": {
          "base_uri": "https://localhost:8080/"
        },
        "id": "7QH5bwwzwRjl",
        "outputId": "e9c264bc-56d0-4a0e-91b2-6ca44a5d7423"
      },
      "execution_count": 14,
      "outputs": [
        {
          "output_type": "stream",
          "name": "stdout",
          "text": [
            "✅ Exported student ONNX model to: /content/models/model_Sim_CLR_DINO_150_optim.onnx\n"
          ]
        }
      ]
    },
    {
      "cell_type": "markdown",
      "source": [
        "### save model onnx"
      ],
      "metadata": {
        "id": "DdAzkRg0r1bl"
      }
    },
    {
      "cell_type": "code",
      "source": [
        "! pip install -q onnx"
      ],
      "metadata": {
        "id": "fC8NRA7BjUYr"
      },
      "execution_count": 12,
      "outputs": []
    },
    {
      "cell_type": "code",
      "source": [
        "import os\n",
        "import torch.onnx\n",
        "import onnxruntime\n",
        "\n",
        "# Path to save\n",
        "# onnx_path = \"/content/models/model_Sim_CLR_cosine_norm_loss.onnx\"\n",
        "# onnx_path = \"/content/models/model_Sim_CLR_resnet50.onnx\"\n",
        "# onnx_path = \"/content/models/model_Sim_CLR_MSE_loss_opt.onnx\"\n",
        "onnx_path = \"/content/models/model_Sim_CLR_DINO.onnx\"\n",
        "\n",
        "# Dummy input for tracing (match (1,3,32,32))\n",
        "dummy_input = torch.randn(1, 3, 32, 32).to(device)\n",
        "\n",
        "# Export the model\n",
        "torch.onnx.export(\n",
        "    model,\n",
        "    dummy_input,\n",
        "    onnx_path,\n",
        "    input_names=[\"x\"],\n",
        "    output_names=[\"embedding\"],\n",
        "    export_params=True,\n",
        "    opset_version=11,\n",
        "    do_constant_folding=True,\n",
        "    verbose=False\n",
        ")\n",
        "\n",
        "print(f\"Exported ONNX model to: {onnx_path}\")\n"
      ],
      "metadata": {
        "colab": {
          "base_uri": "https://localhost:8080/",
          "height": 211
        },
        "id": "Xx8b8PXik3pR",
        "outputId": "ae0e16aa-83c0-415c-bc5e-840c62e1cd6c"
      },
      "execution_count": 13,
      "outputs": [
        {
          "output_type": "error",
          "ename": "NameError",
          "evalue": "name 'model' is not defined",
          "traceback": [
            "\u001b[0;31m---------------------------------------------------------------------------\u001b[0m",
            "\u001b[0;31mNameError\u001b[0m                                 Traceback (most recent call last)",
            "\u001b[0;32m<ipython-input-13-2690603149>\u001b[0m in \u001b[0;36m<cell line: 0>\u001b[0;34m()\u001b[0m\n\u001b[1;32m     14\u001b[0m \u001b[0;31m# Export the model\u001b[0m\u001b[0;34m\u001b[0m\u001b[0;34m\u001b[0m\u001b[0m\n\u001b[1;32m     15\u001b[0m torch.onnx.export(\n\u001b[0;32m---> 16\u001b[0;31m     \u001b[0mmodel\u001b[0m\u001b[0;34m,\u001b[0m\u001b[0;34m\u001b[0m\u001b[0;34m\u001b[0m\u001b[0m\n\u001b[0m\u001b[1;32m     17\u001b[0m     \u001b[0mdummy_input\u001b[0m\u001b[0;34m,\u001b[0m\u001b[0;34m\u001b[0m\u001b[0;34m\u001b[0m\u001b[0m\n\u001b[1;32m     18\u001b[0m     \u001b[0monnx_path\u001b[0m\u001b[0;34m,\u001b[0m\u001b[0;34m\u001b[0m\u001b[0;34m\u001b[0m\u001b[0m\n",
            "\u001b[0;31mNameError\u001b[0m: name 'model' is not defined"
          ]
        }
      ]
    },
    {
      "cell_type": "code",
      "source": [],
      "metadata": {
        "id": "dqNSUrJFli2d"
      },
      "execution_count": null,
      "outputs": []
    }
  ]
}